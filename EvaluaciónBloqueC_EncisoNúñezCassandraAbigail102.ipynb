{
  "nbformat": 4,
  "nbformat_minor": 0,
  "metadata": {
    "colab": {
      "provenance": [],
      "toc_visible": true,
      "authorship_tag": "ABX9TyMU4p96+4/4K6gIDsfNQW5t",
      "include_colab_link": true
    },
    "kernelspec": {
      "name": "python3",
      "display_name": "Python 3"
    },
    "language_info": {
      "name": "python"
    }
  },
  "cells": [
    {
      "cell_type": "markdown",
      "metadata": {
        "id": "view-in-github",
        "colab_type": "text"
      },
      "source": [
        "<a href=\"https://colab.research.google.com/github/CassandrAEN/Laboratorio_102/blob/main/Evaluaci%C3%B3nBloqueC_EncisoN%C3%BA%C3%B1ezCassandraAbigail102.ipynb\" target=\"_parent\"><img src=\"https://colab.research.google.com/assets/colab-badge.svg\" alt=\"Open In Colab\"/></a>"
      ]
    },
    {
      "cell_type": "markdown",
      "source": [
        "Alumna: Enciso Núñez Cassandra Abigail 102"
      ],
      "metadata": {
        "id": "Uo5MhOsFmO6G"
      }
    },
    {
      "cell_type": "markdown",
      "source": [
        "#  ***Sentencia If***"
      ],
      "metadata": {
        "id": "A1kxu2GHlnzO"
      }
    },
    {
      "cell_type": "code",
      "execution_count": null,
      "metadata": {
        "colab": {
          "base_uri": "https://localhost:8080/"
        },
        "id": "cD-R1uUiktqw",
        "outputId": "6e80c04a-87b6-4434-a824-aa156b174f1c"
      },
      "outputs": [
        {
          "output_type": "stream",
          "name": "stdout",
          "text": [
            "El número es positivo\n"
          ]
        }
      ],
      "source": [
        "num = 10\n",
        "if num > 0:\n",
        "    print(\"El número es positivo\")\n",
        "elif num < 0:\n",
        "    print(\"El número es negativo\")\n",
        "else:\n",
        "    print(\"El número es cero\")"
      ]
    },
    {
      "cell_type": "markdown",
      "source": [
        "# ***Sentencia While***"
      ],
      "metadata": {
        "id": "FV-8r8k4l9a-"
      }
    },
    {
      "cell_type": "code",
      "source": [
        "contador = 0\n",
        "while contador < 5:\n",
        "    print(\"El contador es:\", contador)\n",
        "    contador += 1"
      ],
      "metadata": {
        "colab": {
          "base_uri": "https://localhost:8080/"
        },
        "id": "tg85c55RlCkZ",
        "outputId": "b3995915-3272-4869-c562-b7f65c9171a8"
      },
      "execution_count": null,
      "outputs": [
        {
          "output_type": "stream",
          "name": "stdout",
          "text": [
            "El contador es: 0\n",
            "El contador es: 1\n",
            "El contador es: 2\n",
            "El contador es: 3\n",
            "El contador es: 4\n"
          ]
        }
      ]
    },
    {
      "cell_type": "markdown",
      "source": [
        "# ***Sentencia For***"
      ],
      "metadata": {
        "id": "-k2VqkzrmGcu"
      }
    },
    {
      "cell_type": "code",
      "source": [
        "frutas = [\"cereza\", \"fresa\", \"uva\"]\n",
        "for fruta in frutas:\n",
        "    print(\"Tengo una\", fruta)"
      ],
      "metadata": {
        "colab": {
          "base_uri": "https://localhost:8080/"
        },
        "id": "W0MQ3UPilFtu",
        "outputId": "ef3201d6-cc10-46bd-d8f7-0c67fe37b604"
      },
      "execution_count": null,
      "outputs": [
        {
          "output_type": "stream",
          "name": "stdout",
          "text": [
            "Tengo una cereza\n",
            "Tengo una fresa\n",
            "Tengo una uva\n"
          ]
        }
      ]
    },
    {
      "cell_type": "markdown",
      "source": [
        "# ***If, While, For***"
      ],
      "metadata": {
        "id": "YWvnYFPomcPe"
      }
    },
    {
      "cell_type": "code",
      "source": [
        "num = 10\n",
        "if num > 0:\n",
        "    print(\"El número es positivo\")\n",
        "elif num < 0:\n",
        "    print(\"El número es negativo\")\n",
        "else:\n",
        "    print(\"El número es cero\")\n",
        "    contador = 0\n",
        "while contador < 5:\n",
        "    print(\"El contador es:\", contador)\n",
        "    contador += 1\n",
        "frutas = [\"cereza\", \"fresa\", \"uva\"]\n",
        "for fruta in frutas:\n",
        "    print(\"Tengo una\", fruta)"
      ],
      "metadata": {
        "colab": {
          "base_uri": "https://localhost:8080/"
        },
        "id": "891ypCaOlUn-",
        "outputId": "05be7933-260e-4d37-a560-3a76b6d49a86"
      },
      "execution_count": null,
      "outputs": [
        {
          "output_type": "stream",
          "name": "stdout",
          "text": [
            "El número es positivo\n",
            "Tengo una cereza\n",
            "Tengo una fresa\n",
            "Tengo una uva\n"
          ]
        }
      ]
    }
  ]
}