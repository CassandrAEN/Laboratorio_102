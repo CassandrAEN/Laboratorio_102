{
  "nbformat": 4,
  "nbformat_minor": 0,
  "metadata": {
    "colab": {
      "provenance": [],
      "toc_visible": true,
      "authorship_tag": "ABX9TyN9s/KvgMe27OsRwOCjxcES",
      "include_colab_link": true
    },
    "kernelspec": {
      "name": "python3",
      "display_name": "Python 3"
    },
    "language_info": {
      "name": "python"
    }
  },
  "cells": [
    {
      "cell_type": "markdown",
      "metadata": {
        "id": "view-in-github",
        "colab_type": "text"
      },
      "source": [
        "<a href=\"https://colab.research.google.com/github/CassandrAEN/Laboratorio_102/blob/main/TareaProgramaci%C3%B3n_CassandraAbigailEncisoN%C3%BA%C3%B1ez.ipynb\" target=\"_parent\"><img src=\"https://colab.research.google.com/assets/colab-badge.svg\" alt=\"Open In Colab\"/></a>"
      ]
    },
    {
      "cell_type": "markdown",
      "source": [
        "# ***Tabla de verdad***"
      ],
      "metadata": {
        "id": "jEFnpnH0EgqY"
      }
    },
    {
      "cell_type": "code",
      "source": [
        "booleanos = [False, True]\n",
        "\n",
        "# Tabla de verdad de or\n",
        "\n",
        "print('x\\ty\\tx or y')\n",
        "print('-'*22)\n",
        "for x in booleanos:\n",
        "    for y in booleanos:\n",
        "        print(x, y, x or y, sep = '\\t')\n",
        "\n",
        "print()\n",
        "\n",
        "# Tabla de verdad de and\n",
        "\n",
        "print('x\\ty\\tx and y')\n",
        "print('-'*22)\n",
        "for x in booleanos:\n",
        "    for y in booleanos:\n",
        "        print(x, y, x and y, sep = '\\t')\n",
        "\n",
        "print()\n",
        "\n",
        "# Tabla de verdad de not\n",
        "\n",
        "print('x\\tnot x')\n",
        "print('-'*13)\n",
        "for x in booleanos:\n",
        "    print(x, not x, sep = '\\t')\n",
        "\n",
        "print()\n",
        "\n",
        "# Tabla de verdad de ^\n",
        "\n",
        "print('x\\ty\\tx ^ y')\n",
        "print('-'*21)\n",
        "for x in booleanos:\n",
        "    for y in booleanos:\n",
        "        print(x, y, x ^ y, sep = '\\t')"
      ],
      "metadata": {
        "colab": {
          "base_uri": "https://localhost:8080/"
        },
        "id": "YSGEsHbrEqdA",
        "outputId": "43fb9467-dd2c-4206-a099-4966e08420da"
      },
      "execution_count": 7,
      "outputs": [
        {
          "output_type": "stream",
          "name": "stdout",
          "text": [
            "x\ty\tx or y\n",
            "----------------------\n",
            "False\tFalse\tFalse\n",
            "False\tTrue\tTrue\n",
            "True\tFalse\tTrue\n",
            "True\tTrue\tTrue\n",
            "\n",
            "x\ty\tx and y\n",
            "----------------------\n",
            "False\tFalse\tFalse\n",
            "False\tTrue\tFalse\n",
            "True\tFalse\tFalse\n",
            "True\tTrue\tTrue\n",
            "\n",
            "x\tnot x\n",
            "-------------\n",
            "False\tTrue\n",
            "True\tFalse\n",
            "\n",
            "x\ty\tx ^ y\n",
            "---------------------\n",
            "False\tFalse\tFalse\n",
            "False\tTrue\tTrue\n",
            "True\tFalse\tTrue\n",
            "True\tTrue\tFalse\n"
          ]
        }
      ]
    },
    {
      "cell_type": "markdown",
      "source": [
        "***Expresiones Relacionales***"
      ],
      "metadata": {
        "id": "vOHGOMLdCpz8"
      }
    },
    {
      "cell_type": "code",
      "source": [
        "# Relational Expressions\n",
        "a = 25\n",
        "b = 11\n",
        "c = 43\n",
        "d = 39\n",
        "\n",
        "p = (a + b) >= (c - d)\n",
        "print(p)"
      ],
      "metadata": {
        "colab": {
          "base_uri": "https://localhost:8080/"
        },
        "id": "V6AADUaUCy5s",
        "outputId": "ac344ebb-a655-4c98-a6c4-ac5f7ffeb018"
      },
      "execution_count": 4,
      "outputs": [
        {
          "output_type": "stream",
          "name": "stdout",
          "text": [
            "True\n"
          ]
        }
      ]
    },
    {
      "cell_type": "markdown",
      "source": [
        "***Expresiones lógicas***"
      ],
      "metadata": {
        "id": "PAAbzC38DBl1"
      }
    },
    {
      "cell_type": "code",
      "source": [
        "P = (119 == 9)\n",
        "Q = (7 > 4)\n",
        "\n",
        "# Logical Expressions\n",
        "R = P and Q\n",
        "S = P or Q\n",
        "T = not P\n",
        "\n",
        "print(R)\n",
        "print(S)\n",
        "print(T)"
      ],
      "metadata": {
        "colab": {
          "base_uri": "https://localhost:8080/"
        },
        "id": "0JTufio2DHF-",
        "outputId": "80d94cc6-5f85-46fe-913c-9c35b99baad3"
      },
      "execution_count": 5,
      "outputs": [
        {
          "output_type": "stream",
          "name": "stdout",
          "text": [
            "False\n",
            "True\n",
            "True\n"
          ]
        }
      ]
    },
    {
      "cell_type": "markdown",
      "source": [
        "# ***Expresiones de prioridad***"
      ],
      "metadata": {
        "id": "bp2tV-spDwPd"
      }
    },
    {
      "cell_type": "code",
      "source": [
        "# Multi-operator expression\n",
        "\n",
        "a = 19 + 7 * 4\n",
        "print(a)\n",
        "\n",
        "b = (19 + 7) * 4\n",
        "print(b)\n",
        "\n",
        "c = 19 + (7 * 4)\n",
        "print(c)"
      ],
      "metadata": {
        "colab": {
          "base_uri": "https://localhost:8080/"
        },
        "id": "U8YfsJkfD4MA",
        "outputId": "b2f42768-8b9b-4674-a635-f8832fc86e47"
      },
      "execution_count": 6,
      "outputs": [
        {
          "output_type": "stream",
          "name": "stdout",
          "text": [
            "47\n",
            "104\n",
            "47\n"
          ]
        }
      ]
    },
    {
      "cell_type": "markdown",
      "source": [
        "***Tabla de verdad empleando  la función product del módulo itertools***"
      ],
      "metadata": {
        "id": "m996jOMmCIQV"
      }
    },
    {
      "cell_type": "code",
      "source": [
        "import itertools\n",
        "\n",
        "variables = [7, 14]\n",
        "\n",
        "for p, q in itertools.product(variables, repeat=2):\n",
        "    # Aquí se realiza las operaciones lógicas con p y q\n",
        "    resultado = p and q\n",
        "\n",
        "    print(f\"{p} and {q} = {resultado}\")\n"
      ],
      "metadata": {
        "colab": {
          "base_uri": "https://localhost:8080/"
        },
        "id": "y2qImi9BCQes",
        "outputId": "9bcdee38-b3fc-4c12-c3c6-41e4df5ff715"
      },
      "execution_count": 3,
      "outputs": [
        {
          "output_type": "stream",
          "name": "stdout",
          "text": [
            "7 and 7 = 7\n",
            "7 and 14 = 14\n",
            "14 and 7 = 7\n",
            "14 and 14 = 14\n"
          ]
        }
      ]
    }
  ]
}