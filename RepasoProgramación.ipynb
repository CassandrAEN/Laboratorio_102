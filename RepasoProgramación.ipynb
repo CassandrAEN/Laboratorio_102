{
  "nbformat": 4,
  "nbformat_minor": 0,
  "metadata": {
    "colab": {
      "provenance": [],
      "toc_visible": true,
      "authorship_tag": "ABX9TyOmakMb/3gBQ8UuDuu3CVZd",
      "include_colab_link": true
    },
    "kernelspec": {
      "name": "python3",
      "display_name": "Python 3"
    },
    "language_info": {
      "name": "python"
    }
  },
  "cells": [
    {
      "cell_type": "markdown",
      "metadata": {
        "id": "view-in-github",
        "colab_type": "text"
      },
      "source": [
        "<a href=\"https://colab.research.google.com/github/CassandrAEN/Laboratorio_102/blob/main/RepasoProgramaci%C3%B3n.ipynb\" target=\"_parent\"><img src=\"https://colab.research.google.com/assets/colab-badge.svg\" alt=\"Open In Colab\"/></a>"
      ]
    },
    {
      "cell_type": "code",
      "execution_count": null,
      "metadata": {
        "colab": {
          "base_uri": "https://localhost:8080/"
        },
        "id": "zNjbLHHPrslm",
        "outputId": "cbf60a9a-84df-48f1-9f6a-096c56e557a1"
      },
      "outputs": [
        {
          "output_type": "stream",
          "name": "stdout",
          "text": [
            "URC - Ciencia de Datos\n"
          ]
        }
      ],
      "source": [
        "# Práctica  tipo de datos simples\n",
        "print(\"URC - Ciencia de Datos\")"
      ]
    },
    {
      "cell_type": "code",
      "source": [
        "# Práctica 2\n",
        "mensaje= \"Bienbenidos, 2024 URC\"\n",
        "print(\"Hola\")\n",
        "print(mensaje)"
      ],
      "metadata": {
        "colab": {
          "base_uri": "https://localhost:8080/"
        },
        "id": "jWB8Kkucs7jU",
        "outputId": "d5cf49ad-0ae5-4098-b761-676bdc9dda14"
      },
      "execution_count": null,
      "outputs": [
        {
          "output_type": "stream",
          "name": "stdout",
          "text": [
            "Hola\n",
            "Bienbenidos, 2024 URC\n"
          ]
        }
      ]
    },
    {
      "cell_type": "code",
      "source": [
        "# Práctica 3 Nombre del usuario\n",
        "name= input(\"Cassandra Abigail\")\n",
        "print(\"¡Hola\" + name +\"!\")\n"
      ],
      "metadata": {
        "colab": {
          "base_uri": "https://localhost:8080/"
        },
        "id": "SXcJ2xYGtijF",
        "outputId": "30b2b46c-7004-492d-d8ba-73883e6358ba"
      },
      "execution_count": null,
      "outputs": [
        {
          "output_type": "stream",
          "name": "stdout",
          "text": [
            "Cassandra Abigail Hola\n",
            "¡Hola Hola!\n"
          ]
        }
      ]
    },
    {
      "cell_type": "code",
      "source": [
        "# Práctica 4 Nombre del usuario + entero\n",
        "name=input(\"¿Cómo te llamas?\")\n",
        "n= input (\"Introduce un número entero\")\n",
        "print((name +\"/n\")*int(n))"
      ],
      "metadata": {
        "colab": {
          "base_uri": "https://localhost:8080/"
        },
        "id": "T_xcuG-WuhA7",
        "outputId": "403f93b4-b44e-4de6-aa11-fb2498c2e157"
      },
      "execution_count": null,
      "outputs": [
        {
          "output_type": "stream",
          "name": "stdout",
          "text": [
            "¿Cómo te llamas?Cassandra Abigail\n",
            "Introduce un número entero8\n",
            "Cassandra Abigail/nCassandra Abigail/nCassandra Abigail/nCassandra Abigail/nCassandra Abigail/nCassandra Abigail/nCassandra Abigail/nCassandra Abigail/n\n"
          ]
        }
      ]
    },
    {
      "cell_type": "code",
      "source": [
        "# Práctica 5 Nombre del usuario, mostrarlo en mayúsculasy mostrando el número de caracteres\n",
        "name=input(\"¿Cómo te llamas?\")\n",
        "print(name.upper() + \"tiene\" + str(len(name)) + \"letras\")"
      ],
      "metadata": {
        "colab": {
          "base_uri": "https://localhost:8080/"
        },
        "id": "jQomeTsZv7cW",
        "outputId": "073e1ff1-b322-4aa1-e385-1f256c27c939"
      },
      "execution_count": null,
      "outputs": [
        {
          "output_type": "stream",
          "name": "stdout",
          "text": [
            "¿Cómo te llamas?Cassandra Abigail\n",
            "CASSANDRA ABIGAILtiene17letras\n"
          ]
        }
      ]
    },
    {
      "cell_type": "code",
      "source": [
        "from inspect import CO_ASYNC_GENERATOR\n",
        "horas= float(input(\"¿Cúantas horas trabajaste?\"))\n",
        "costo = float(input (\"¿Cuánto cobras por hora?\"))\n",
        "paga=horas * CO_ASYNC_GENERATOR\n",
        "print(\"Tu paga es\"+ str(paga))"
      ],
      "metadata": {
        "id": "OyEYqTc9044s",
        "outputId": "935947da-fa1d-4cd9-bb64-7ff4d8b41b9f",
        "colab": {
          "base_uri": "https://localhost:8080/"
        }
      },
      "execution_count": 2,
      "outputs": [
        {
          "output_type": "stream",
          "name": "stdout",
          "text": [
            "¿Cúantas horas trabajaste?5\n",
            "¿Cuánto cobras por hora?100\n",
            "Tu paga es2560.0\n"
          ]
        }
      ]
    },
    {
      "cell_type": "markdown",
      "source": [
        "***Realizar un programa que pida su peso en kilogramos y su estatura, para calcular el índice de masa corporal.***"
      ],
      "metadata": {
        "id": "3DDwgSJMP7J_"
      }
    },
    {
      "cell_type": "code",
      "source": [
        "peso= float(input(\"¿Cuál es tu peso en kilogramos?\"))\n",
        "estatura= float(input(\"¿Cuál es tu estatura?\"))\n",
        "imc= peso/estatura**2\n",
        "print(\"Tu indicie de masa coorporal es\" + str(imc))"
      ],
      "metadata": {
        "id": "y_ZW8-RO1bx3",
        "outputId": "7392d88e-4251-47be-e2ae-616b510a13db",
        "colab": {
          "base_uri": "https://localhost:8080/"
        }
      },
      "execution_count": 3,
      "outputs": [
        {
          "output_type": "stream",
          "name": "stdout",
          "text": [
            "¿Cuál es tu peso en kilogramos?67\n",
            "¿Cuál es tu estatura?1.68\n",
            "Tu indicie de masa coorporal es23.738662131519277\n"
          ]
        }
      ]
    }
  ]
}