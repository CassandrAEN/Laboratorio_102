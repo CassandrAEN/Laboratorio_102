{
  "nbformat": 4,
  "nbformat_minor": 0,
  "metadata": {
    "colab": {
      "provenance": [],
      "authorship_tag": "ABX9TyMasMOmLiZDFFcjKtZ0E15x",
      "include_colab_link": true
    },
    "kernelspec": {
      "name": "python3",
      "display_name": "Python 3"
    },
    "language_info": {
      "name": "python"
    }
  },
  "cells": [
    {
      "cell_type": "markdown",
      "metadata": {
        "id": "view-in-github",
        "colab_type": "text"
      },
      "source": [
        "<a href=\"https://colab.research.google.com/github/CassandrAEN/Laboratorio_102/blob/main/Ciclos.ipynb\" target=\"_parent\"><img src=\"https://colab.research.google.com/assets/colab-badge.svg\" alt=\"Open In Colab\"/></a>"
      ]
    },
    {
      "cell_type": "markdown",
      "source": [
        "** CICLOS CON FOR**"
      ],
      "metadata": {
        "id": "LnbQ_oGojJ6p"
      }
    },
    {
      "cell_type": "markdown",
      "source": [
        "Programa que solicite una palabra y la repita 10 veces en pantalla."
      ],
      "metadata": {
        "id": "OnRlKz1ZjDey"
      }
    },
    {
      "cell_type": "code",
      "execution_count": null,
      "metadata": {
        "colab": {
          "base_uri": "https://localhost:8080/"
        },
        "id": "IpL9GgdhjBsN",
        "outputId": "17c7cb42-ca67-44de-e4a9-0fa83bfa3cf2"
      },
      "outputs": [
        {
          "output_type": "stream",
          "name": "stdout",
          "text": [
            "Escribe una palabraCassandra\n",
            "Cassandra\n",
            "Cassandra\n",
            "Cassandra\n",
            "Cassandra\n",
            "Cassandra\n",
            "Cassandra\n",
            "Cassandra\n",
            "Cassandra\n",
            "Cassandra\n",
            "Cassandra\n"
          ]
        }
      ],
      "source": [
        "palabra=input(\"Escribe una palabra\")\n",
        "for i in range(10):\n",
        "  print(palabra)"
      ]
    },
    {
      "cell_type": "markdown",
      "source": [
        "Programa que imprima una serie de numeros que vaya de dos en dos.\n"
      ],
      "metadata": {
        "id": "P2f1Z1fBj4AF"
      }
    },
    {
      "cell_type": "code",
      "source": [
        "for i in range(5,20,2):\n",
        "  print(i)"
      ],
      "metadata": {
        "colab": {
          "base_uri": "https://localhost:8080/"
        },
        "id": "csPhUurPkY2p",
        "outputId": "c0cf9c5c-e0ae-48b1-a025-aa6542b8c6b6"
      },
      "execution_count": null,
      "outputs": [
        {
          "output_type": "stream",
          "name": "stdout",
          "text": [
            "5\n",
            "7\n",
            "9\n",
            "11\n",
            "13\n",
            "15\n",
            "17\n",
            "19\n"
          ]
        }
      ]
    },
    {
      "cell_type": "code",
      "source": [
        "for i in range (5,0,-1):\n",
        "  print(i)"
      ],
      "metadata": {
        "colab": {
          "base_uri": "https://localhost:8080/"
        },
        "id": "IZ1bOv_vk4LY",
        "outputId": "d8d5e93e-4fa2-4646-9ae3-a5d230d172ec"
      },
      "execution_count": null,
      "outputs": [
        {
          "output_type": "stream",
          "name": "stdout",
          "text": [
            "5\n",
            "4\n",
            "3\n",
            "2\n",
            "1\n"
          ]
        }
      ]
    },
    {
      "cell_type": "code",
      "source": [
        "s=\"Mi unidad\"\n",
        "print (s.capitalize())"
      ],
      "metadata": {
        "colab": {
          "base_uri": "https://localhost:8080/"
        },
        "id": "3ckHUhQrlIpS",
        "outputId": "35079299-2071-4ba3-c284-6406f7f807d9"
      },
      "execution_count": null,
      "outputs": [
        {
          "output_type": "stream",
          "name": "stdout",
          "text": [
            "Mi unidad\n"
          ]
        }
      ]
    },
    {
      "cell_type": "markdown",
      "source": [
        "Programa que solicite un numero incrementando un numero a la vez"
      ],
      "metadata": {
        "id": "6yaCL_INlTfk"
      }
    },
    {
      "cell_type": "code",
      "source": [
        "numero=int(input(\"Dame un numero\"))\n",
        "for c in range(1,101):\n",
        "  print(\"El numero es\"+str(numero+c))\n",
        "  print(c)"
      ],
      "metadata": {
        "colab": {
          "base_uri": "https://localhost:8080/"
        },
        "id": "_fiKLnvXqAuB",
        "outputId": "3953d579-8d7f-4c31-9a0f-66e251cffa34"
      },
      "execution_count": null,
      "outputs": [
        {
          "output_type": "stream",
          "name": "stdout",
          "text": [
            "Dame un numero19\n",
            "El numero es20\n",
            "1\n",
            "El numero es21\n",
            "2\n",
            "El numero es22\n",
            "3\n",
            "El numero es23\n",
            "4\n",
            "El numero es24\n",
            "5\n",
            "El numero es25\n",
            "6\n",
            "El numero es26\n",
            "7\n",
            "El numero es27\n",
            "8\n",
            "El numero es28\n",
            "9\n",
            "El numero es29\n",
            "10\n",
            "El numero es30\n",
            "11\n",
            "El numero es31\n",
            "12\n",
            "El numero es32\n",
            "13\n",
            "El numero es33\n",
            "14\n",
            "El numero es34\n",
            "15\n",
            "El numero es35\n",
            "16\n",
            "El numero es36\n",
            "17\n",
            "El numero es37\n",
            "18\n",
            "El numero es38\n",
            "19\n",
            "El numero es39\n",
            "20\n",
            "El numero es40\n",
            "21\n",
            "El numero es41\n",
            "22\n",
            "El numero es42\n",
            "23\n",
            "El numero es43\n",
            "24\n",
            "El numero es44\n",
            "25\n",
            "El numero es45\n",
            "26\n",
            "El numero es46\n",
            "27\n",
            "El numero es47\n",
            "28\n",
            "El numero es48\n",
            "29\n",
            "El numero es49\n",
            "30\n",
            "El numero es50\n",
            "31\n",
            "El numero es51\n",
            "32\n",
            "El numero es52\n",
            "33\n",
            "El numero es53\n",
            "34\n",
            "El numero es54\n",
            "35\n",
            "El numero es55\n",
            "36\n",
            "El numero es56\n",
            "37\n",
            "El numero es57\n",
            "38\n",
            "El numero es58\n",
            "39\n",
            "El numero es59\n",
            "40\n",
            "El numero es60\n",
            "41\n",
            "El numero es61\n",
            "42\n",
            "El numero es62\n",
            "43\n",
            "El numero es63\n",
            "44\n",
            "El numero es64\n",
            "45\n",
            "El numero es65\n",
            "46\n",
            "El numero es66\n",
            "47\n",
            "El numero es67\n",
            "48\n",
            "El numero es68\n",
            "49\n",
            "El numero es69\n",
            "50\n",
            "El numero es70\n",
            "51\n",
            "El numero es71\n",
            "52\n",
            "El numero es72\n",
            "53\n",
            "El numero es73\n",
            "54\n",
            "El numero es74\n",
            "55\n",
            "El numero es75\n",
            "56\n",
            "El numero es76\n",
            "57\n",
            "El numero es77\n",
            "58\n",
            "El numero es78\n",
            "59\n",
            "El numero es79\n",
            "60\n",
            "El numero es80\n",
            "61\n",
            "El numero es81\n",
            "62\n",
            "El numero es82\n",
            "63\n",
            "El numero es83\n",
            "64\n",
            "El numero es84\n",
            "65\n",
            "El numero es85\n",
            "66\n",
            "El numero es86\n",
            "67\n",
            "El numero es87\n",
            "68\n",
            "El numero es88\n",
            "69\n",
            "El numero es89\n",
            "70\n",
            "El numero es90\n",
            "71\n",
            "El numero es91\n",
            "72\n",
            "El numero es92\n",
            "73\n",
            "El numero es93\n",
            "74\n",
            "El numero es94\n",
            "75\n",
            "El numero es95\n",
            "76\n",
            "El numero es96\n",
            "77\n",
            "El numero es97\n",
            "78\n",
            "El numero es98\n",
            "79\n",
            "El numero es99\n",
            "80\n",
            "El numero es100\n",
            "81\n",
            "El numero es101\n",
            "82\n",
            "El numero es102\n",
            "83\n",
            "El numero es103\n",
            "84\n",
            "El numero es104\n",
            "85\n",
            "El numero es105\n",
            "86\n",
            "El numero es106\n",
            "87\n",
            "El numero es107\n",
            "88\n",
            "El numero es108\n",
            "89\n",
            "El numero es109\n",
            "90\n",
            "El numero es110\n",
            "91\n",
            "El numero es111\n",
            "92\n",
            "El numero es112\n",
            "93\n",
            "El numero es113\n",
            "94\n",
            "El numero es114\n",
            "95\n",
            "El numero es115\n",
            "96\n",
            "El numero es116\n",
            "97\n",
            "El numero es117\n",
            "98\n",
            "El numero es118\n",
            "99\n",
            "El numero es119\n",
            "100\n"
          ]
        }
      ]
    },
    {
      "cell_type": "markdown",
      "source": [
        "Escribir un programa que pregunte al usuario su edad y muestre por pantallatodos klos años que ha cumplido, desde 1 hasta su edad."
      ],
      "metadata": {
        "id": "BHNCQelupjAS"
      }
    },
    {
      "cell_type": "code",
      "source": [
        "numero=int(input(\"¿Cuál es tu edad\"))"
      ],
      "metadata": {
        "id": "YcW8szxDqZ5k"
      },
      "execution_count": null,
      "outputs": []
    },
    {
      "cell_type": "markdown",
      "source": [
        "Programa que pida al usuario un número entero positivo ymuestre por pantalla todos los numeros impares desde esa número hasta el que se solicitó."
      ],
      "metadata": {
        "id": "AgYE2TFgsAMo"
      }
    },
    {
      "cell_type": "code",
      "source": [
        "edad=int(input(\"Ingresa tu edad\"))\n",
        "for e in range(1+ edad):\n",
        "  print(str(e)+\"años\")\n"
      ],
      "metadata": {
        "colab": {
          "base_uri": "https://localhost:8080/"
        },
        "id": "gcy1D0_NsPcj",
        "outputId": "5a257b50-87fb-419c-848c-f01d7214894a"
      },
      "execution_count": null,
      "outputs": [
        {
          "output_type": "stream",
          "name": "stdout",
          "text": [
            "Ingresa tu edad19\n",
            "0años\n",
            "1años\n",
            "2años\n",
            "3años\n",
            "4años\n",
            "5años\n",
            "6años\n",
            "7años\n",
            "8años\n",
            "9años\n",
            "10años\n",
            "11años\n",
            "12años\n",
            "13años\n",
            "14años\n",
            "15años\n",
            "16años\n",
            "17años\n",
            "18años\n",
            "19años\n"
          ]
        }
      ]
    },
    {
      "cell_type": "markdown",
      "source": [
        "Escribir un programa que solicite 10 numeros que muestre la suma y el promedio de esos 10 números:"
      ],
      "metadata": {
        "id": "xc9SFCLcvaXR"
      }
    },
    {
      "cell_type": "code",
      "source": [
        "def main():\n",
        "numeros=[10,20,30,40,50,60,70,80,90,100]\n",
        "for i in range(10):\n",
        "  numero= float(input(\"Ingresa el numero\"))\n",
        "  numeros.appened(numero)\n",
        "  suma=sum(numeros)\n",
        "  promedio= suma/1en (numeros)\n",
        "  print(\"La suma de todoslos número es\"+ ,suma)\n",
        "  print(\"\")"
      ],
      "metadata": {
        "id": "lPqQx8atvw6U"
      },
      "execution_count": null,
      "outputs": []
    },
    {
      "cell_type": "code",
      "source": [
        "suma=0\n",
        "for i in range(1,11,1):\n",
        "  numero=float(input(\"Ingresa un número\"))\n",
        "  suma= suma+numero\n",
        "\n",
        "  print(\"La suma es:+ str(suma)\")\n",
        "  promedio= suma/10\n",
        "  print(\"Tu promedio es:\")"
      ],
      "metadata": {
        "id": "6WtUuPdpynye"
      },
      "execution_count": null,
      "outputs": []
    },
    {
      "cell_type": "markdown",
      "source": [
        "Escribir un programa que pida al usuario un número y muestre un triangulo de la siguiente forma.\n"
      ],
      "metadata": {
        "id": "BCQLAbX_zW_R"
      }
    },
    {
      "cell_type": "code",
      "source": [
        "n= int(input(\"Dame un número\"))\n",
        "for i in range(n):\n",
        "  print(\"*\"*(i+1))"
      ],
      "metadata": {
        "colab": {
          "base_uri": "https://localhost:8080/"
        },
        "id": "qC_Gscgt3s1w",
        "outputId": "fa73bf4f-0be8-4ea3-8f0b-65f6160a64d7"
      },
      "execution_count": null,
      "outputs": [
        {
          "output_type": "stream",
          "name": "stdout",
          "text": [
            "Dame un número19\n",
            "*\n",
            "**\n",
            "***\n",
            "****\n",
            "*****\n",
            "******\n",
            "*******\n",
            "********\n",
            "*********\n",
            "**********\n",
            "***********\n",
            "************\n",
            "*************\n",
            "**************\n",
            "***************\n",
            "****************\n",
            "*****************\n",
            "******************\n",
            "*******************\n"
          ]
        }
      ]
    },
    {
      "cell_type": "markdown",
      "source": [
        "Programa que muestre las tablas de multiplicar del 1 al 10  utilizando for anindado"
      ],
      "metadata": {
        "id": "HWPY4zmW3RsE"
      }
    },
    {
      "cell_type": "code",
      "source": [
        "n= in(input(\"¿Qué tabla quieres multiplicar?\"))\n",
        "for i in range(n):\n",
        "  print(1*10,2*10,3*10,4*10):\n"
      ],
      "metadata": {
        "id": "nto8BJvT4DzR"
      },
      "execution_count": null,
      "outputs": []
    }
  ]
}