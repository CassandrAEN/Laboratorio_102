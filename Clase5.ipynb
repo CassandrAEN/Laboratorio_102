{
  "nbformat": 4,
  "nbformat_minor": 0,
  "metadata": {
    "colab": {
      "provenance": [],
      "authorship_tag": "ABX9TyPf4tVCYJ61b0iGccWhiOV2",
      "include_colab_link": true
    },
    "kernelspec": {
      "name": "python3",
      "display_name": "Python 3"
    },
    "language_info": {
      "name": "python"
    }
  },
  "cells": [
    {
      "cell_type": "markdown",
      "metadata": {
        "id": "view-in-github",
        "colab_type": "text"
      },
      "source": [
        "<a href=\"https://colab.research.google.com/github/CassandrAEN/Laboratorio_202/blob/main/Clase5.ipynb\" target=\"_parent\"><img src=\"https://colab.research.google.com/assets/colab-badge.svg\" alt=\"Open In Colab\"/></a>"
      ]
    },
    {
      "cell_type": "markdown",
      "source": [
        "Programa para que solicite los datos de 5 autos:\n",
        "-Marca , precio, color, modelo, origen.\n",
        "El programa la final debe mostrar:\n",
        "-¿Cuántos autos son europeos?\n",
        "-¿Cuántos valen menos de 300,000?\n",
        "-¿Cuántos fueron modelo 2024?\n",
        "-¿Cuántos fueron color rojo?\n",
        "-El promedio de precios de todos los autos.\n",
        "-El promedio de precios de los autos europeos."
      ],
      "metadata": {
        "id": "238rIWV1rE8t"
      }
    },
    {
      "cell_type": "code",
      "source": [
        "# Solicitar datos de 5 autos\n",
        "autos = []\n",
        "for i in range(5):\n",
        "    marca = input(\"Introduce la marca del auto: \")\n",
        "    precio = float(input(\"Introduce el precio del auto: \"))\n",
        "    color = input(\"Introduce el color del auto: \")\n",
        "    modelo = int(input(\"Introduce el modelo del auto: \"))\n",
        "    origen = input(\"Introduce el origen del auto: \")\n",
        "    autos.append({\"marca\": marca, \"precio\": precio, \"color\": color, \"modelo\": modelo, \"origen\": origen})\n",
        "\n",
        "# Inicializar contadores\n",
        "autos_europeos = 0\n",
        "autos_menos_300k = 0\n",
        "autos_modelo_2024 = 0\n",
        "autos_color_rojo = 0\n",
        "total_precios = 0\n",
        "total_precios_europeos = 0\n",
        "\n",
        "# Calcular estadísticas\n",
        "for auto in autos:\n",
        "    if auto[\"origen\"].lower() == \"europeo\":\n",
        "        autos_europeos += 1\n",
        "        total_precios_europeos += auto[\"precio\"]\n",
        "    if auto[\"precio\"] < 300000:\n",
        "        autos_menos_300k += 1\n",
        "    if auto[\"modelo\"] == 2024:\n",
        "        autos_modelo_2024 += 1\n",
        "    if auto[\"color\"].lower() == \"rojo\":\n",
        "        autos_color_rojo += 1\n",
        "    total_precios += auto[\"precio\"]\n",
        "\n",
        "# Calcular promedios\n",
        "promedio_precios = total_precios / len(autos)\n",
        "if autos_europeos > 0:\n",
        "    promedio_precios_europeos = total_precios_europeos / autos_europeos\n",
        "else:\n",
        "    promedio_precios_europeos = 0\n",
        "\n",
        "# Mostrar resultados\n",
        "print(\"¿Cuántos autos son europeos?:\", autos_europeos)\n",
        "print(\"¿Cuántos valen menos de 300,000?:\", autos_menos_300k)\n",
        "print(\"¿Cuántos fueron modelo 2024?:\", autos_modelo_2024)\n",
        "print(\"¿Cuántos fueron color rojo?:\", autos_color_rojo)\n",
        "print(\"El promedio de precios de todos los autos:\", promedio_precios)\n",
        "print(\"El promedio de precios de los autos europeos:\", promedio_precios_europeos)\n"
      ],
      "metadata": {
        "colab": {
          "base_uri": "https://localhost:8080/"
        },
        "id": "5n-C7GMnhkS-",
        "outputId": "03d42fc0-31a4-4351-9f5d-25d5790db5a6"
      },
      "execution_count": 8,
      "outputs": [
        {
          "output_type": "stream",
          "name": "stdout",
          "text": [
            "Introduce la marca del auto: bmw\n",
            "Introduce el precio del auto: 900000\n",
            "Introduce el color del auto: rojo\n",
            "Introduce el modelo del auto: 2019\n",
            "Introduce el origen del auto: europeo \n",
            "Introduce la marca del auto: jeep\n",
            "Introduce el precio del auto: 895000\n",
            "Introduce el color del auto: negro\n",
            "Introduce el modelo del auto: 2021\n",
            "Introduce el origen del auto: europeo\n",
            "Introduce la marca del auto: kia\n",
            "Introduce el precio del auto: 450000\n",
            "Introduce el color del auto: rojo\n",
            "Introduce el modelo del auto: 2016\n",
            "Introduce el origen del auto: europeo\n",
            "Introduce la marca del auto: honda\n",
            "Introduce el precio del auto: 599000\n",
            "Introduce el color del auto: blanco\n",
            "Introduce el modelo del auto: 2024\n",
            "Introduce el origen del auto: europeo\n",
            "Introduce la marca del auto: porshe\n",
            "Introduce el precio del auto: 3000000\n",
            "Introduce el color del auto: rojo\n",
            "Introduce el modelo del auto: 2023\n",
            "Introduce el origen del auto: europeo\n",
            "¿Cuántos autos son europeos?: 4\n",
            "¿Cuántos valen menos de 300,000?: 0\n",
            "¿Cuántos fueron modelo 2024?: 1\n",
            "¿Cuántos fueron color rojo?: 3\n",
            "El promedio de precios de todos los autos: 1168800.0\n",
            "El promedio de precios de los autos europeos: 1236000.0\n"
          ]
        }
      ]
    },
    {
      "cell_type": "markdown",
      "source": [
        "Se desea calcular el salario semanal de varios empleados bajo las siguientes condiciones:\n",
        "\n",
        "Las primeras 40 horas las recibe con un pago normal de acuerdo a una tarifa por hora previamete asignada. Las siguientes 9 horas de trabajo adicional a la jornada normal se pagan dobles y las exedentes a 49 horas de pagan al triple.Además se requiere registrar el nombre del trabajador, la tarifa  por hora y la tarifa por hora y el número de horas trabajadas y que se muestre el pago que deberá hacerse a dicho empleado. Cada vez que se calcula el pago de un empleado, el usuario decidirá si desea realizar el cálculo para otro empleado  o terminar el proceso.\n",
        "Al terminar el proceso debe mostrar el total a pagar del salario neto por los empleados calculados.\n"
      ],
      "metadata": {
        "id": "hbzMWKpd4qwF"
      }
    },
    {
      "cell_type": "code",
      "source": [
        "# Función para calcular el salario semanal de un empleado\n",
        "def calcular_salario(nombre, tarifa_normal, horas_trabajadas):\n",
        "    if horas_trabajadas <= 40:\n",
        "        salario = horas_trabajadas * tarifa_normal\n",
        "    elif horas_trabajadas <= 49:\n",
        "        horas_normales = 40\n",
        "        horas_extra = horas_trabajadas - 40\n",
        "        salario = horas_normales * tarifa_normal + horas_extra * tarifa_normal * 2\n",
        "    else:\n",
        "        horas_normales = 40\n",
        "        horas_extra_dobles = 9\n",
        "        horas_extra_triples = horas_trabajadas - 49\n",
        "        salario = horas_normales * tarifa_normal + horas_extra_dobles * tarifa_normal * 2 + horas_extra_triples * tarifa_normal * 3\n",
        "    return salario\n",
        "\n",
        "# Variables para el total a pagar\n",
        "total_a_pagar = 0\n",
        "\n",
        "# Ciclo para calcular el salario de varios empleados\n",
        "while True:\n",
        "    nombre = input(\"Ingrese el nombre del empleado: \")\n",
        "    tarifa_normal = float(input(\"Ingrese la tarifa por hora normal: \"))\n",
        "    horas_trabajadas = int(input(\"Ingrese el número de horas trabajadas: \"))\n",
        "\n",
        "    salario_empleado = calcular_salario(nombre, tarifa_normal, horas_trabajadas)\n",
        "    total_a_pagar += salario_empleado\n",
        "\n",
        "    print(\"El salario semanal de\", nombre, \"es:\", salario_empleado)\n",
        "\n",
        "    continuar = input(\"¿Desea calcular el salario de otro empleado? (s/n): \")\n",
        "    if continuar.lower() != \"s\":\n",
        "        break\n",
        "\n",
        "# Mostrar total a pagar\n",
        "print(\"El total a pagar del salario neto por los empleados calculados es:\", total_a_pagar)"
      ],
      "metadata": {
        "colab": {
          "base_uri": "https://localhost:8080/"
        },
        "id": "2XojMrbhj826",
        "outputId": "6f4809ed-8a5d-4465-c025-72dc9c669ebc"
      },
      "execution_count": 9,
      "outputs": [
        {
          "output_type": "stream",
          "name": "stdout",
          "text": [
            "Ingrese el nombre del empleado: Cassandra\n",
            "Ingrese la tarifa por hora normal: 150\n",
            "Ingrese el número de horas trabajadas: 53\n",
            "El salario semanal de Cassandra es: 10500.0\n",
            "¿Desea calcular el salario de otro empleado? (s/n): s\n",
            "Ingrese el nombre del empleado: Abigail\n",
            "Ingrese la tarifa por hora normal: 50\n",
            "Ingrese el número de horas trabajadas: 45\n",
            "El salario semanal de Abigail es: 2500.0\n",
            "¿Desea calcular el salario de otro empleado? (s/n): n\n",
            "El total a pagar del salario neto por los empleados calculados es: 13000.0\n"
          ]
        }
      ]
    }
  ]
}