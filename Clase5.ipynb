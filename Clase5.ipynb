{
  "nbformat": 4,
  "nbformat_minor": 0,
  "metadata": {
    "colab": {
      "provenance": [],
      "authorship_tag": "ABX9TyNZVt/sREB0nkEb/RhRi2bv",
      "include_colab_link": true
    },
    "kernelspec": {
      "name": "python3",
      "display_name": "Python 3"
    },
    "language_info": {
      "name": "python"
    }
  },
  "cells": [
    {
      "cell_type": "markdown",
      "metadata": {
        "id": "view-in-github",
        "colab_type": "text"
      },
      "source": [
        "<a href=\"https://colab.research.google.com/github/CassandrAEN/Laboratorio_202/blob/main/Clase5.ipynb\" target=\"_parent\"><img src=\"https://colab.research.google.com/assets/colab-badge.svg\" alt=\"Open In Colab\"/></a>"
      ]
    },
    {
      "cell_type": "markdown",
      "source": [
        "Programa para que solicite los datos de 5 autos:\n",
        "-Marca , precio, color, modelo, origen.\n",
        "El programa la final debe mostrar:\n",
        "-¿Cuántos autos son europeos?\n",
        "-¿Cuántos valen menos de 300,000?\n",
        "-¿Cuántos fueron modelo 2024?\n",
        "-¿Cuántos fueron color rojo?\n",
        "-El promedio de precios de todos los autos.\n",
        "-El promedio de precios de los autos europeos."
      ],
      "metadata": {
        "id": "238rIWV1rE8t"
      }
    },
    {
      "cell_type": "code",
      "source": [],
      "metadata": {
        "id": "0b5rQcDR3Ynp"
      },
      "execution_count": null,
      "outputs": []
    },
    {
      "cell_type": "code",
      "source": [
        "autos = []\n",
        "for i in range(5):\n",
        "        marca = input(\"Ingrese la marca del auto {}: \".format(i+1))\n",
        "        precio = float(input(\"Ingrese el precio del auto {} en MXN: \".format(i+1)))\n",
        "        color = input(\"Ingrese el color del auto {}: \".format(i+1))\n",
        "        modelo = int(input(\"Ingrese el modelo del auto {}: \".format(i+1)))\n",
        "        origen = input(\"Ingrese el origen del auto {} (europeo, americano, asiático): \".format(i+1))\n",
        "        autos.append({\"marca\": marca, \"precio\": precio, \"color\": color, \"modelo\": modelo, \"origen\": origen})\n",
        "\n",
        "def contar_autos_europeos(autos):\n",
        "    return sum(1 for auto in autos if auto[\"origen\"].lower() == \"europeo\")\n",
        "\n",
        "def contar_autos_menos_de_300000(autos):\n",
        "    return sum(1 for auto in autos if auto[\"precio\"] < 300000)\n",
        "\n",
        "def contar_autos_modelo_2024(autos):\n",
        "    return sum(1 for auto in autos if auto[\"modelo\"] == 2024)\n",
        "\n",
        "def contar_autos_color_rojo(autos):\n",
        "    return sum(1 for auto in autos if auto[\"color\"].lower() == \"rojo\")\n",
        "\n",
        "def promedio_precios_autos(autos):\n",
        "    return sum(auto[\"precio\"] for auto in autos) / len(autos)\n",
        "\n",
        "def promedio_precios_autos_europeos(autos):\n",
        "    autos_europeos = [auto for auto in autos if auto[\"origen\"].lower() == \"europeo\"]\n",
        "    return sum(auto[\"precio\"] for auto in autos_europeos) / len(autos_europeos)\n",
        "\n",
        "print(\"\\nResultados:\")\n",
        "print(\"- ¿Cuántos autos son europeos?:\", contar_autos_europeos(autos))\n",
        "print(\"- ¿Cuántos valen menos de 300,000 MXN?:\", contar_autos_menos_de_300000(autos))\n",
        "print(\"- ¿Cuántos fueron modelo 2024?:\", contar_autos_modelo_2024(autos))\n",
        "print(\"- ¿Cuántos fueron color rojo?:\", contar_autos_color_rojo(autos))\n",
        "print(\"- El promedio de precios de todos los autos:\", promedio_precios_autos(autos), \"MXN\")\n",
        "print(\"- El promedio de precios de los autos europeos:\", promedio_precios_autos_europeos(autos), \"MXN\")"
      ],
      "metadata": {
        "colab": {
          "base_uri": "https://localhost:8080/",
          "height": 356
        },
        "id": "nVa_Fv9Xy6m4",
        "outputId": "ec263bc1-efcd-4150-c41a-8406465e3a3d"
      },
      "execution_count": 21,
      "outputs": [
        {
          "output_type": "error",
          "ename": "KeyboardInterrupt",
          "evalue": "Interrupted by user",
          "traceback": [
            "\u001b[0;31m---------------------------------------------------------------------------\u001b[0m",
            "\u001b[0;31mKeyboardInterrupt\u001b[0m                         Traceback (most recent call last)",
            "\u001b[0;32m<ipython-input-21-0d3e7f766815>\u001b[0m in \u001b[0;36m<cell line: 2>\u001b[0;34m()\u001b[0m\n\u001b[1;32m      1\u001b[0m \u001b[0mautos\u001b[0m \u001b[0;34m=\u001b[0m \u001b[0;34m[\u001b[0m\u001b[0;34m]\u001b[0m\u001b[0;34m\u001b[0m\u001b[0;34m\u001b[0m\u001b[0m\n\u001b[1;32m      2\u001b[0m \u001b[0;32mfor\u001b[0m \u001b[0mi\u001b[0m \u001b[0;32min\u001b[0m \u001b[0mrange\u001b[0m\u001b[0;34m(\u001b[0m\u001b[0;36m5\u001b[0m\u001b[0;34m)\u001b[0m\u001b[0;34m:\u001b[0m\u001b[0;34m\u001b[0m\u001b[0;34m\u001b[0m\u001b[0m\n\u001b[0;32m----> 3\u001b[0;31m         \u001b[0mmarca\u001b[0m \u001b[0;34m=\u001b[0m \u001b[0minput\u001b[0m\u001b[0;34m(\u001b[0m\u001b[0;34m\"Ingrese la marca del auto {}: \"\u001b[0m\u001b[0;34m.\u001b[0m\u001b[0mformat\u001b[0m\u001b[0;34m(\u001b[0m\u001b[0mi\u001b[0m\u001b[0;34m+\u001b[0m\u001b[0;36m1\u001b[0m\u001b[0;34m)\u001b[0m\u001b[0;34m)\u001b[0m\u001b[0;34m\u001b[0m\u001b[0;34m\u001b[0m\u001b[0m\n\u001b[0m\u001b[1;32m      4\u001b[0m         \u001b[0mprecio\u001b[0m \u001b[0;34m=\u001b[0m \u001b[0mfloat\u001b[0m\u001b[0;34m(\u001b[0m\u001b[0minput\u001b[0m\u001b[0;34m(\u001b[0m\u001b[0;34m\"Ingrese el precio del auto {} en MXN: \"\u001b[0m\u001b[0;34m.\u001b[0m\u001b[0mformat\u001b[0m\u001b[0;34m(\u001b[0m\u001b[0mi\u001b[0m\u001b[0;34m+\u001b[0m\u001b[0;36m1\u001b[0m\u001b[0;34m)\u001b[0m\u001b[0;34m)\u001b[0m\u001b[0;34m)\u001b[0m\u001b[0;34m\u001b[0m\u001b[0;34m\u001b[0m\u001b[0m\n\u001b[1;32m      5\u001b[0m         \u001b[0mcolor\u001b[0m \u001b[0;34m=\u001b[0m \u001b[0minput\u001b[0m\u001b[0;34m(\u001b[0m\u001b[0;34m\"Ingrese el color del auto {}: \"\u001b[0m\u001b[0;34m.\u001b[0m\u001b[0mformat\u001b[0m\u001b[0;34m(\u001b[0m\u001b[0mi\u001b[0m\u001b[0;34m+\u001b[0m\u001b[0;36m1\u001b[0m\u001b[0;34m)\u001b[0m\u001b[0;34m)\u001b[0m\u001b[0;34m\u001b[0m\u001b[0;34m\u001b[0m\u001b[0m\n",
            "\u001b[0;32m/usr/local/lib/python3.10/dist-packages/ipykernel/kernelbase.py\u001b[0m in \u001b[0;36mraw_input\u001b[0;34m(self, prompt)\u001b[0m\n\u001b[1;32m    849\u001b[0m                 \u001b[0;34m\"raw_input was called, but this frontend does not support input requests.\"\u001b[0m\u001b[0;34m\u001b[0m\u001b[0;34m\u001b[0m\u001b[0m\n\u001b[1;32m    850\u001b[0m             )\n\u001b[0;32m--> 851\u001b[0;31m         return self._input_request(str(prompt),\n\u001b[0m\u001b[1;32m    852\u001b[0m             \u001b[0mself\u001b[0m\u001b[0;34m.\u001b[0m\u001b[0m_parent_ident\u001b[0m\u001b[0;34m,\u001b[0m\u001b[0;34m\u001b[0m\u001b[0;34m\u001b[0m\u001b[0m\n\u001b[1;32m    853\u001b[0m             \u001b[0mself\u001b[0m\u001b[0;34m.\u001b[0m\u001b[0m_parent_header\u001b[0m\u001b[0;34m,\u001b[0m\u001b[0;34m\u001b[0m\u001b[0;34m\u001b[0m\u001b[0m\n",
            "\u001b[0;32m/usr/local/lib/python3.10/dist-packages/ipykernel/kernelbase.py\u001b[0m in \u001b[0;36m_input_request\u001b[0;34m(self, prompt, ident, parent, password)\u001b[0m\n\u001b[1;32m    893\u001b[0m             \u001b[0;32mexcept\u001b[0m \u001b[0mKeyboardInterrupt\u001b[0m\u001b[0;34m:\u001b[0m\u001b[0;34m\u001b[0m\u001b[0;34m\u001b[0m\u001b[0m\n\u001b[1;32m    894\u001b[0m                 \u001b[0;31m# re-raise KeyboardInterrupt, to truncate traceback\u001b[0m\u001b[0;34m\u001b[0m\u001b[0;34m\u001b[0m\u001b[0m\n\u001b[0;32m--> 895\u001b[0;31m                 \u001b[0;32mraise\u001b[0m \u001b[0mKeyboardInterrupt\u001b[0m\u001b[0;34m(\u001b[0m\u001b[0;34m\"Interrupted by user\"\u001b[0m\u001b[0;34m)\u001b[0m \u001b[0;32mfrom\u001b[0m \u001b[0;32mNone\u001b[0m\u001b[0;34m\u001b[0m\u001b[0;34m\u001b[0m\u001b[0m\n\u001b[0m\u001b[1;32m    896\u001b[0m             \u001b[0;32mexcept\u001b[0m \u001b[0mException\u001b[0m \u001b[0;32mas\u001b[0m \u001b[0me\u001b[0m\u001b[0;34m:\u001b[0m\u001b[0;34m\u001b[0m\u001b[0;34m\u001b[0m\u001b[0m\n\u001b[1;32m    897\u001b[0m                 \u001b[0mself\u001b[0m\u001b[0;34m.\u001b[0m\u001b[0mlog\u001b[0m\u001b[0;34m.\u001b[0m\u001b[0mwarning\u001b[0m\u001b[0;34m(\u001b[0m\u001b[0;34m\"Invalid Message:\"\u001b[0m\u001b[0;34m,\u001b[0m \u001b[0mexc_info\u001b[0m\u001b[0;34m=\u001b[0m\u001b[0;32mTrue\u001b[0m\u001b[0;34m)\u001b[0m\u001b[0;34m\u001b[0m\u001b[0;34m\u001b[0m\u001b[0m\n",
            "\u001b[0;31mKeyboardInterrupt\u001b[0m: Interrupted by user"
          ]
        }
      ]
    },
    {
      "cell_type": "markdown",
      "source": [
        "Se desea calcular el salario semanal de varios empleados bajo las siguientes condiciones:\n",
        "\n",
        "Las primeras 40 horas las recibe con un pago normal de acuerdo a una tarifa por hora previamete asignada. Las siguientes 9 horas de trabajo adicional a la jornada normal se pagan dobles y las exedentes a 49 horas de pagan al triple.Además se requiere registrar el nombre del trabajador, la tarifa  por hora y la tarifa por hora y el número de horas trabajadas y que se muestre el pago que deberá hacerse a dicho empleado. Cada vez que se calcula el pago de un empleado, el usuario decidirá si desea realizar el cálculo para otro empleado  o terminar el proceso.\n",
        "Al terminar el proceso debe mostrar el total a pagar del salario neto por los empleados calculados.\n"
      ],
      "metadata": {
        "id": "hbzMWKpd4qwF"
      }
    },
    {
      "cell_type": "code",
      "source": [
        "def calcular_pago(nombre, tarifa_hora, horas_trabajadas):\n",
        "    if horas_trabajadas <= 40:\n",
        "        pago = horas_trabajadas * tarifa_hora\n",
        "    elif horas_trabajadas <= 49:\n",
        "        pago = 40 * tarifa_hora + (horas_trabajadas - 40) * tarifa_hora * 2\n",
        "    else:\n",
        "        pago = 40 * tarifa_hora + 9 * tarifa_hora * 2 + (horas_trabajadas - 49) * tarifa_hora * 3\n",
        "    return pago\n",
        "\n",
        "total_salarios = 0\n",
        "\n",
        "nombre = input(\"Ingrese el nombre del empleado: \")\n",
        "tarifa_hora = float(input(\"Ingrese la tarifa por hora: \"))\n",
        "horas_trabajadas = float(input(\"Ingrese el número de horas trabajadas: \"))\n",
        "\n",
        "pago_empleado = calcular_pago(nombre, tarifa_hora, horas_trabajadas)\n",
        "print(f\"El salario semanal de {nombre} es: ${pago_empleado}\")\n",
        "\n",
        "total_salarios += pago_empleado\n",
        "\n",
        "print(f\"El total a pagar del salario neto por los empleados calculados es: ${total_salarios}\")"
      ],
      "metadata": {
        "colab": {
          "base_uri": "https://localhost:8080/"
        },
        "id": "XiQvBicF_M3E",
        "outputId": "c1a854c7-f14b-45b6-f0af-5ec25d7a23e7"
      },
      "execution_count": 30,
      "outputs": [
        {
          "output_type": "stream",
          "name": "stdout",
          "text": [
            "Ingrese el nombre del empleado: Cassandra\n",
            "Ingrese la tarifa por hora: 150\n",
            "Ingrese el número de horas trabajadas: 51\n",
            "El salario semanal de Cassandra es: $9600.0\n",
            "El total a pagar del salario neto por los empleados calculados es: $9600.0\n"
          ]
        }
      ]
    }
  ]
}