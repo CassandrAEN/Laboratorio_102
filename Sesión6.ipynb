{
  "nbformat": 4,
  "nbformat_minor": 0,
  "metadata": {
    "colab": {
      "provenance": [],
      "authorship_tag": "ABX9TyPqv+YwJo4kQk/1YOT00RZf",
      "include_colab_link": true
    },
    "kernelspec": {
      "name": "python3",
      "display_name": "Python 3"
    },
    "language_info": {
      "name": "python"
    }
  },
  "cells": [
    {
      "cell_type": "markdown",
      "metadata": {
        "id": "view-in-github",
        "colab_type": "text"
      },
      "source": [
        "<a href=\"https://colab.research.google.com/github/CassandrAEN/Laboratorio_202/blob/main/Sesi%C3%B3n6.ipynb\" target=\"_parent\"><img src=\"https://colab.research.google.com/assets/colab-badge.svg\" alt=\"Open In Colab\"/></a>"
      ]
    },
    {
      "cell_type": "code",
      "execution_count": null,
      "metadata": {
        "colab": {
          "base_uri": "https://localhost:8080/"
        },
        "id": "Kml7URxTDYkI",
        "outputId": "e6fdb714-a45a-496f-d6b5-1f61ad5dd977"
      },
      "outputs": [
        {
          "output_type": "stream",
          "name": "stdout",
          "text": [
            "SUMA DE NÚMEROS POSITIVOS\n",
            "Escriba un número positivo o 0 para terminar: 7\n",
            "Escriba un número positivo o 0 para terminar: 9\n",
            "Escriba un número positivo o 0 para terminar: 50\n",
            "Escriba un número positivo o 0 para terminar: -9\n",
            "Se ignorará el número negativo.\n",
            "Escriba un número positivo o 0 para terminar: 10\n",
            "Escriba un número positivo o 0 para terminar: 0\n",
            "La suma de los números es 76 y el promedio es 19.0\n"
          ]
        }
      ],
      "source": [
        "#Escbribir un programa que suma una cantidad no determinada de numeros positivos. la suma se detendra si el usuario ingresa un 0. al final se debe imprimir el promedio de dichos numeros\n",
        "def main():\n",
        "    print(\"SUMA DE NÚMEROS POSITIVOS\")\n",
        "    total_sum = 0\n",
        "    num_values = 0\n",
        "    while True:\n",
        "        numero = int(input(\"Escriba un número positivo o 0 para terminar: \"))\n",
        "        if numero < 0:\n",
        "            print(\"Se ignorará el número negativo.\")\n",
        "        elif numero == 0:\n",
        "            break\n",
        "        else:\n",
        "            total_sum += numero\n",
        "            num_values += 1\n",
        "    if num_values > 0:\n",
        "        average = total_sum / num_values\n",
        "        print(f\"La suma de los números es {total_sum} y el promedio es {average}\")\n",
        "    else:\n",
        "        print(\"No se ingresaron números positivos.\")\n",
        "\n",
        "if __name__ == \"__main__\":\n",
        "    main()"
      ]
    },
    {
      "cell_type": "code",
      "source": [
        "from pickle import TRUE\n",
        "#\n",
        "listaVacia = []\n",
        "print(listaVacia)\n",
        "letras =[\"a\", \"e\", \"i\",\"o\",\"u\"]\n",
        "print(letras)\n",
        "numeros =[1,2,3,4,5]\n",
        "val_voleanos=[TRUE, False, TRUE, False]\n",
        "print(val_voleanos)"
      ],
      "metadata": {
        "colab": {
          "base_uri": "https://localhost:8080/"
        },
        "id": "PlFaMvJDD0sm",
        "outputId": "61f26f0d-a27c-4a7e-d2da-a1a2c0b4eb8a"
      },
      "execution_count": null,
      "outputs": [
        {
          "output_type": "stream",
          "name": "stdout",
          "text": [
            "[]\n",
            "['a', 'e', 'i', 'o', 'u']\n",
            "[b'I01\\n', False, b'I01\\n', False]\n"
          ]
        }
      ]
    },
    {
      "cell_type": "code",
      "source": [
        "marcas=[\"oppo\",\"iphone\",\"samsung\",\"xiaomi\"]\n",
        "print(f\"in marcas[2]:{marcas[2]}\")\n",
        "print(f\"in marcas[-1]:{marcas[-1]}\")"
      ],
      "metadata": {
        "colab": {
          "base_uri": "https://localhost:8080/"
        },
        "id": "2RfZtThOD4Ee",
        "outputId": "2d4d20e8-83ec-449b-9cbc-2fb0c9404841"
      },
      "execution_count": null,
      "outputs": [
        {
          "output_type": "stream",
          "name": "stdout",
          "text": [
            "in marcas[2]:samsung\n",
            "in marcas[-1]:xiaomi\n"
          ]
        }
      ]
    },
    {
      "cell_type": "code",
      "source": [
        "#Practica 1:\n",
        "#Escribir un programa que alamacene en una lista las materias de este semestre y las muestre.\n",
        "materias=[\"estadistica\",\"programacion\",\"desarollo\",\"redaccion\",\"algebra\",\"calculo\"]\n",
        "print(\"Yo estudio\", materias)\n",
        "calificaciones =[]\n",
        "for materia in materias:\n",
        "    puntaje=input(\"¿Que calificion sacaste en  \" + materia +  \"? \")\n",
        "    calificaciones.append(puntaje)\n",
        "for i in range(len(materias)):\n",
        "  print(\"en \"+ materias [1]+ \" has sacado \"+ calificaciones[1])\n"
      ],
      "metadata": {
        "colab": {
          "base_uri": "https://localhost:8080/"
        },
        "id": "sXpL7JQYEA17",
        "outputId": "d070e8c9-fea9-4688-ac10-ffa93be4b234"
      },
      "execution_count": null,
      "outputs": [
        {
          "output_type": "stream",
          "name": "stdout",
          "text": [
            "Yo estudio ['estadistica', 'programacion', 'desarollo', 'redaccion', 'algebra', 'calculo']\n",
            "¿Que calificion sacaste en  estadistica? 10\n",
            "¿Que calificion sacaste en  programacion? 8.5\n",
            "¿Que calificion sacaste en  desarollo? 9\n",
            "¿Que calificion sacaste en  redaccion? 10\n",
            "¿Que calificion sacaste en  algebra? 8\n",
            "¿Que calificion sacaste en  calculo? 8.5\n",
            "en programacion has sacado 8.5\n",
            "en programacion has sacado 8.5\n",
            "en programacion has sacado 8.5\n",
            "en programacion has sacado 8.5\n",
            "en programacion has sacado 8.5\n",
            "en programacion has sacado 8.5\n"
          ]
        }
      ]
    },
    {
      "cell_type": "code",
      "source": [
        "#Practica 2:\n",
        "#Escribir en pantalla que almacene en un a lista los siguientes precios en una lista, 50, 75, 46, 22,80,65,8 que los ordene de forma asendente y muestre por pantalla el menor y el mayor de los precios\n",
        "precios=[ 50,75,46,22,80,65,8 ]\n",
        "menor_precio = precios[0]\n",
        "mayor_precio = precios[-1]\n",
        "precios.sort()\n",
        "\n",
        "print(f\"El precio menor es: {menor_precio}\")\n",
        "print(f\"El precio mayor es: {mayor_precio}\")"
      ],
      "metadata": {
        "colab": {
          "base_uri": "https://localhost:8080/"
        },
        "id": "63mPyUTGEXrc",
        "outputId": "9134185b-442f-4c71-c562-f372d0d89ca9"
      },
      "execution_count": null,
      "outputs": [
        {
          "output_type": "stream",
          "name": "stdout",
          "text": [
            "El precio menor es: 50\n",
            "El precio mayor es: 8\n"
          ]
        }
      ]
    },
    {
      "source": [
        "precios = [50, 75, 46, 22, 80, 65, 8]\n",
        "for i in range(len(precios)):\n",
        "    for j in range(i+1, len(precios)):\n",
        "        if precios[i] > precios[j]:\n",
        "            precios[i], precios[j] = precios[j], precios[i]\n",
        "min_precio = precios[0]\n",
        "max_precio = precios[-1]\n",
        "print(f\"El precio mínimo es: {min_precio}\")\n",
        "print(f\"El precio máximo es: {max_precio}\")"
      ],
      "cell_type": "code",
      "metadata": {
        "colab": {
          "base_uri": "https://localhost:8080/"
        },
        "id": "OcGNvVrwFSlx",
        "outputId": "66ed44b4-fb9b-4a0c-a17d-88bcba88ee50"
      },
      "execution_count": null,
      "outputs": [
        {
          "output_type": "stream",
          "name": "stdout",
          "text": [
            "El precio mínimo es: 8\n",
            "El precio máximo es: 80\n"
          ]
        }
      ]
    },
    {
      "cell_type": "code",
      "source": [
        "# Escribir un programa que almacene en una lista los siguientes de precios capturados por el usuario y muestre por pantalla el menor y el mayor de los precios.\n",
        "precios = []\n",
        "num_precios = int(input(\"Ingrese el número de precios: \"))\n",
        "\n",
        "for i in range(num_precios):\n",
        "    precio = float(input(\"Ingrese precio: \"))\n",
        "    precios.append(precio)\n",
        "\n",
        "precios.sort()\n",
        "\n",
        "print(\"Precios ordenados: \", precios)\n",
        "print(\"El menor precio: \", precios[0])\n",
        "print(\"El mayor precio: \", precios[-1])"
      ],
      "metadata": {
        "id": "93Cn666Nu1iq",
        "outputId": "1e1498b5-2613-4ed0-de90-59029657cc09",
        "colab": {
          "base_uri": "https://localhost:8080/"
        }
      },
      "execution_count": null,
      "outputs": [
        {
          "output_type": "stream",
          "name": "stdout",
          "text": [
            "Ingrese el número de precios: 11\n",
            "Ingrese precio: 150\n",
            "Ingrese precio: 669\n",
            "Ingrese precio: 84\n",
            "Ingrese precio: 97\n",
            "Ingrese precio: 2004\n",
            "Ingrese precio: 107\n",
            "Ingrese precio: 108\n",
            "Ingrese precio: 21\n",
            "Ingrese precio: 117\n",
            "Ingrese precio: 902\n",
            "Ingrese precio: 336\n",
            "Precios ordenados:  [21.0, 84.0, 97.0, 107.0, 108.0, 117.0, 150.0, 336.0, 669.0, 902.0, 2004.0]\n",
            "El menor precio:  21.0\n",
            "El mayor precio:  2004.0\n"
          ]
        }
      ]
    }
  ]
}