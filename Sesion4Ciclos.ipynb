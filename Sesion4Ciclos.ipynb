{
  "nbformat": 4,
  "nbformat_minor": 0,
  "metadata": {
    "colab": {
      "provenance": [],
      "authorship_tag": "ABX9TyNC8JaUJevMnoJwVNhTZ5qZ",
      "include_colab_link": true
    },
    "kernelspec": {
      "name": "python3",
      "display_name": "Python 3"
    },
    "language_info": {
      "name": "python"
    }
  },
  "cells": [
    {
      "cell_type": "markdown",
      "metadata": {
        "id": "view-in-github",
        "colab_type": "text"
      },
      "source": [
        "<a href=\"https://colab.research.google.com/github/CassandrAEN/Laboratorio_202/blob/main/Sesion4Ciclos.ipynb\" target=\"_parent\"><img src=\"https://colab.research.google.com/assets/colab-badge.svg\" alt=\"Open In Colab\"/></a>"
      ]
    },
    {
      "cell_type": "markdown",
      "source": [
        "CICLO"
      ],
      "metadata": {
        "id": "cuP6LTSdDSHd"
      }
    },
    {
      "cell_type": "markdown",
      "source": [
        "Escribir un programa que almacene la cadena de caracteres \"urc\" en una variable, pregunta al usuario por la contraseña hasta  que la contraseña sea correcta."
      ],
      "metadata": {
        "id": "JMJlwZkSDtt_"
      }
    },
    {
      "cell_type": "code",
      "execution_count": 1,
      "metadata": {
        "colab": {
          "base_uri": "https://localhost:8080/"
        },
        "id": "C3cqi98YCyhi",
        "outputId": "9bf864c2-5fd8-4922-8ead-451eee89f2aa"
      },
      "outputs": [
        {
          "output_type": "stream",
          "name": "stdout",
          "text": [
            " Captura la contraseña urc\n",
            " OK correcta\n"
          ]
        }
      ],
      "source": [
        "key=\"urc\"\n",
        "password = \"\"\n",
        "while password !=key:\n",
        "  password= input (\" Captura la contraseña \")\n",
        "  print (\" OK correcta\")"
      ]
    },
    {
      "cell_type": "code",
      "source": [
        "#PRACTICA EJEMPLO WHILE USANDO BREAK\n",
        "x=1\n",
        "while(x<10):\n",
        "  if(x==5):\n",
        "    break\n",
        "  print(x)\n",
        "  x +=1"
      ],
      "metadata": {
        "id": "-T8v9cz3subk",
        "outputId": "f5add4a7-6c44-4f7d-da6f-b1f7041c84cf",
        "colab": {
          "base_uri": "https://localhost:8080/"
        }
      },
      "execution_count": 2,
      "outputs": [
        {
          "output_type": "stream",
          "name": "stdout",
          "text": [
            "1\n",
            "2\n",
            "3\n",
            "4\n"
          ]
        }
      ]
    },
    {
      "cell_type": "markdown",
      "source": [
        "Programa que pida que se le pulse la letra \"c\" si se le pulse cualquier otra letra del programa dira \"Letra incorrecta\" y vuelve a pedir que se pulse la letra \"c\" Cuando se pulse la letra \"c\" el programa dice gracias y termina."
      ],
      "metadata": {
        "id": "emPqHwwwuEva"
      }
    },
    {
      "cell_type": "code",
      "source": [
        "\n",
        "while True:\n",
        "    letra = input(\"Por favor, pulse la letra 'c': \")\n",
        "\n",
        "    if letra.lower() == 'c':\n",
        "        print(\"Gracias.\")\n",
        "        break\n",
        "    else:\n",
        "        print(\"Letra incorrecta. Por favor, intente de nuevo.\")\n"
      ],
      "metadata": {
        "id": "Ek53gubMt1BO",
        "outputId": "b2be1ec6-0563-4ab7-daae-510bea9f28d4",
        "colab": {
          "base_uri": "https://localhost:8080/"
        }
      },
      "execution_count": 10,
      "outputs": [
        {
          "output_type": "stream",
          "name": "stdout",
          "text": [
            "Por favor, pulse la letra 'c': a\n",
            "Letra incorrecta. Por favor, intente de nuevo.\n",
            "Por favor, pulse la letra 'c': c\n",
            "Gracias.\n"
          ]
        }
      ]
    },
    {
      "cell_type": "code",
      "source": [
        "palabra_secreta = \"urc\"\n",
        "counter = 0\n",
        "while True:\n",
        "  palabra= input (\" Ingresar la palabra secreta: \").lower()\n",
        "  counter=counter+1\n",
        "  if palabra==palabra_secreta:\n",
        "    break\n",
        "    if palabra!=palabra_secreta and counter>=5 :\n",
        "        break"
      ],
      "metadata": {
        "colab": {
          "base_uri": "https://localhost:8080/"
        },
        "id": "9vyLQmz3IPUM",
        "outputId": "8b4092b7-18ca-4253-9e18-4efd2374ff6e"
      },
      "execution_count": 3,
      "outputs": [
        {
          "name": "stdout",
          "output_type": "stream",
          "text": [
            " Ingresar la palabra secreta: urc\n"
          ]
        }
      ]
    },
    {
      "cell_type": "markdown",
      "source": [
        "  Programa que solicite la edad de 10 personas y muestre cuantos fueron mayores de edad y cuantos menores de edad."
      ],
      "metadata": {
        "id": "gtbii5hSKJS9"
      }
    },
    {
      "cell_type": "code",
      "source": [
        "mayores =0\n",
        "menores=0\n",
        "for i in range (1,11):\n",
        "  edad= int(input(\" ¿Cual es tu edad \"))\n",
        "  if edad>=18:\n",
        "    mayores+=1\n",
        "  else:\n",
        "    menores+=1\n",
        "print(\" Mayores de edad son \" + str(mayores))\n",
        "print(\" Menores de edad son \"+ str(menores))"
      ],
      "metadata": {
        "id": "-pjOqQggutVx",
        "outputId": "ca3bf114-c282-4327-81a7-a1cf06f7a661",
        "colab": {
          "base_uri": "https://localhost:8080/"
        }
      },
      "execution_count": 11,
      "outputs": [
        {
          "output_type": "stream",
          "name": "stdout",
          "text": [
            " ¿Cual es tu edad 19\n",
            " ¿Cual es tu edad 18\n",
            " ¿Cual es tu edad 17\n",
            " ¿Cual es tu edad 19\n",
            " ¿Cual es tu edad 21\n",
            " ¿Cual es tu edad 22\n",
            " ¿Cual es tu edad 21\n",
            " ¿Cual es tu edad 26\n",
            " ¿Cual es tu edad 27\n",
            " ¿Cual es tu edad 24\n",
            " Mayores de edad son 9\n",
            " Menores de edad son 1\n"
          ]
        }
      ]
    },
    {
      "cell_type": "code",
      "source": [
        "Programa que solicite el precio de 10 productos y calcule el promedio de los productos nacionales e importados"
      ],
      "metadata": {
        "id": "MQLAX-6CPzAj"
      },
      "execution_count": null,
      "outputs": []
    },
    {
      "cell_type": "code",
      "source": [
        "sumanac= 0\n",
        "nac=0\n",
        "sumaimp=0\n",
        "imp=0\n",
        "pronac=0\n",
        "promimp=0\n",
        "for i in range(1,11):\n",
        "  precio= float(input(\"precio del producto\"))\n",
        "  origen= input(\"El producto es nacional s/n\")\n",
        "  if origen ==\"S\":\n",
        "    nac+=1\n",
        "    sumanac+=precio\n",
        "  else:\n",
        "      imp+=1\n",
        "      sumaimp+=precio\n",
        "promnac=sumanac/nac\n",
        "promimp= sumaimp/imp\n",
        "print(\"el promedio de los importados\"+str(promimp))\n",
        "print(\"el promedio de los nacionales\" + str(promnac))"
      ],
      "metadata": {
        "colab": {
          "base_uri": "https://localhost:8080/"
        },
        "id": "46mOxZGfTyr1",
        "outputId": "c34795ba-cda1-4595-b025-2b04e512bb93"
      },
      "execution_count": null,
      "outputs": [
        {
          "output_type": "stream",
          "name": "stdout",
          "text": [
            "precio del producto12\n",
            "El producto es nacional s/nS\n",
            "precio del producto20\n",
            "El producto es nacional s/nN\n",
            "precio del producto65\n",
            "El producto es nacional s/nN\n",
            "precio del producto25\n",
            "El producto es nacional s/nN\n",
            "precio del producto365\n",
            "El producto es nacional s/nS\n",
            "precio del producto925\n",
            "El producto es nacional s/nS\n",
            "precio del producto36\n",
            "El producto es nacional s/nN\n",
            "precio del producto565\n",
            "El producto es nacional s/nS\n",
            "precio del producto66658\n",
            "El producto es nacional s/nN\n",
            "precio del producto455\n",
            "El producto es nacional s/nn\n",
            "el promedio de los importados11209.833333333334\n",
            "el promedio de los nacionales466.75\n"
          ]
        }
      ]
    }
  ]
}