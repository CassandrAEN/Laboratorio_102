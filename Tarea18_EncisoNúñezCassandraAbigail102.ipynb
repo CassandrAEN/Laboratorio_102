{
  "nbformat": 4,
  "nbformat_minor": 0,
  "metadata": {
    "colab": {
      "provenance": [],
      "toc_visible": true,
      "authorship_tag": "ABX9TyOr41eZqBQer09y+eIPZUQn",
      "include_colab_link": true
    },
    "kernelspec": {
      "name": "python3",
      "display_name": "Python 3"
    },
    "language_info": {
      "name": "python"
    }
  },
  "cells": [
    {
      "cell_type": "markdown",
      "metadata": {
        "id": "view-in-github",
        "colab_type": "text"
      },
      "source": [
        "<a href=\"https://colab.research.google.com/github/CassandrAEN/Laboratorio_102/blob/main/Tarea18_EncisoN%C3%BA%C3%B1ezCassandraAbigail102.ipynb\" target=\"_parent\"><img src=\"https://colab.research.google.com/assets/colab-badge.svg\" alt=\"Open In Colab\"/></a>"
      ]
    },
    {
      "cell_type": "markdown",
      "source": [
        "# ***Arreglos Bidemensionales y Unidimensionales***"
      ],
      "metadata": {
        "id": "f26PWQmUJ986"
      }
    },
    {
      "cell_type": "markdown",
      "source": [
        "\n",
        "***# Unidimensional***"
      ],
      "metadata": {
        "id": "3NpD1OzjMqkV"
      }
    },
    {
      "cell_type": "code",
      "execution_count": 11,
      "metadata": {
        "colab": {
          "base_uri": "https://localhost:8080/"
        },
        "id": "q5E1DpU4DWqT",
        "outputId": "d71fa430-1e86-42a1-f338-ece8b5c6864d"
      },
      "outputs": [
        {
          "output_type": "stream",
          "name": "stdout",
          "text": [
            "['Hola', False, 45]\n",
            "Hola\n",
            "3\n",
            "45\n",
            "Hola\n",
            "['Hola', True, 45]\n",
            "['Hola', True, 45, 'nuevo']\n",
            "1\n",
            "['Hola', True, 45, 'nuevo', 5, 6, 7]\n",
            "2\n",
            "['Hola', True, 125, 45, 'nuevo', 5, 6, 7]\n",
            "['Hola', True, 45, 'nuevo', 5, 6, 7]\n",
            "[45, 'Hola', True, 45, 'nuevo', 5, 6, 7]\n",
            "['Hola', True, 45, 'nuevo', 5, 6, 7]\n"
          ]
        }
      ],
      "source": [
        "arreglo = ['Hola', False, 45]\n",
        "print(arreglo)\n",
        "print(arreglo[0])\n",
        "largo = len(arreglo)\n",
        "print(largo)\n",
        "print(arreglo[-1])\n",
        "print(arreglo[-3])\n",
        "arreglo[1]= True\n",
        "print(arreglo)\n",
        "arreglo.append('nuevo')\n",
        "print(arreglo)\n",
        "print(arreglo.count(True))\n",
        "arreglo.extend(range(5,8))\n",
        "print(arreglo)\n",
        "print(arreglo.index(45))\n",
        "arreglo.insert(2,125)\n",
        "print(arreglo)\n",
        "arreglo.pop(2)\n",
        "print(arreglo)\n",
        "arreglo.insert(0,45)\n",
        "print(arreglo)\n",
        "arreglo.remove(45)\n",
        "print(arreglo)"
      ]
    },
    {
      "cell_type": "markdown",
      "source": [
        "***#*** ***Bidimensional***"
      ],
      "metadata": {
        "id": "E6HgHoEALuIC"
      }
    },
    {
      "cell_type": "code",
      "source": [
        "arreglo2 = [\n",
        "          ['Hola', False,45],\n",
        "          [\"Mundo\",True,12]\n",
        "]\n",
        "print(arreglo2[1][0])"
      ],
      "metadata": {
        "colab": {
          "base_uri": "https://localhost:8080/"
        },
        "id": "6kdVXqGjLyEL",
        "outputId": "fd7bddfc-5567-445a-fb2a-d3228e5862b3"
      },
      "execution_count": 12,
      "outputs": [
        {
          "output_type": "stream",
          "name": "stdout",
          "text": [
            "Mundo\n"
          ]
        }
      ]
    }
  ]
}