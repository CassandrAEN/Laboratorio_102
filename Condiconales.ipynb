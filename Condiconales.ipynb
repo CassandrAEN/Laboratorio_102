{
  "nbformat": 4,
  "nbformat_minor": 0,
  "metadata": {
    "colab": {
      "provenance": [],
      "authorship_tag": "ABX9TyNgNwsf33kc9Ty89yzQTb2u",
      "include_colab_link": true
    },
    "kernelspec": {
      "name": "python3",
      "display_name": "Python 3"
    },
    "language_info": {
      "name": "python"
    }
  },
  "cells": [
    {
      "cell_type": "markdown",
      "metadata": {
        "id": "view-in-github",
        "colab_type": "text"
      },
      "source": [
        "<a href=\"https://colab.research.google.com/github/CassandrAEN/Laboratorio_102/blob/main/Condiconales.ipynb\" target=\"_parent\"><img src=\"https://colab.research.google.com/assets/colab-badge.svg\" alt=\"Open In Colab\"/></a>"
      ]
    },
    {
      "cell_type": "markdown",
      "source": [
        "Programa para preguntar si eres mayor de edad o no"
      ],
      "metadata": {
        "id": "Gn5_V0dj-pD9"
      }
    },
    {
      "cell_type": "code",
      "execution_count": 8,
      "metadata": {
        "colab": {
          "base_uri": "https://localhost:8080/"
        },
        "id": "W68IQCPQ9fD0",
        "outputId": "ce1db403-b0d4-48cb-ac9e-45f950b19325"
      },
      "outputs": [
        {
          "output_type": "stream",
          "name": "stdout",
          "text": [
            "¿Cuál es tu edad?19\n",
            "eres mayor de edad\n"
          ]
        }
      ],
      "source": [
        "edad=int(input(\"¿Cuál es tu edad?\"))\n",
        "if edad>=18:\n",
        "  print(\"eres mayor de edad\")\n",
        "else:\n",
        "  print(\"eres menor de edad\")"
      ]
    },
    {
      "cell_type": "markdown",
      "source": [
        "Escribir un programa que almacene los caracteres URCnet en una variable, preguntar al usuario la contraseña y ver si la contraseña coincide con la variable sin tomar en cuenta mayusculas y minusculas."
      ],
      "metadata": {
        "id": "F3wFW4TV-Yik"
      }
    },
    {
      "cell_type": "code",
      "source": [
        "c=\"urcnet\"\n",
        "passwd=input(\"¿Cuál es tu contraseña?\")\n",
        "if c== passwd.lower():\n",
        "  print(\"contraseña correcta\")\n",
        "else:\n",
        "    print(\"Contraseña incorrecta\")"
      ],
      "metadata": {
        "colab": {
          "base_uri": "https://localhost:8080/"
        },
        "id": "ISoyqxooBi_N",
        "outputId": "5597bea2-1b69-4e58-8efa-9b3e92f96c6e"
      },
      "execution_count": 23,
      "outputs": [
        {
          "output_type": "stream",
          "name": "stdout",
          "text": [
            "¿Cuál es tu contraseña?urcnet\n",
            "contraseña correcta\n"
          ]
        }
      ]
    },
    {
      "cell_type": "markdown",
      "source": [
        "Programa para atributar un determinado impuesto se necesita ser mayor de 16 y tener unos ingresos superiores a  10k mensuales. Escribir un programa que pregunte al usuario su edad y sus ingresos mensuales. Decir si debe pagar impuestos o no."
      ],
      "metadata": {
        "id": "zNedP5pVCZdr"
      }
    },
    {
      "cell_type": "code",
      "source": [
        "edad= int (input(\"¿Cuál es tu edad?\"))\n",
        "if  edad>=16:\n",
        "  print(\"Tienes edad para pagar impuestos\")\n",
        "else:\n",
        "  print(\"No tienes la edad para pagar impuestos\")\n",
        "  ingresos= float(input(\"¿Cuál es tu ingreso mensual?\"))\n",
        "  if ingresos>= 10000:\n",
        "    print(\"Debes pagar impuestos\")\n",
        "  else:\n",
        "      print(\"No pagas impuestos\")"
      ],
      "metadata": {
        "colab": {
          "base_uri": "https://localhost:8080/"
        },
        "id": "GSJUEVEpCtrs",
        "outputId": "d409696b-319f-4291-a06b-5a3d72e778b0"
      },
      "execution_count": 33,
      "outputs": [
        {
          "output_type": "stream",
          "name": "stdout",
          "text": [
            "¿Cuál es tu edad?19\n",
            "Tienes edad para pagar impuestos\n"
          ]
        }
      ]
    },
    {
      "cell_type": "code",
      "source": [
        "\n",
        "  ingresos= float(input(\"¿Cuál es tu ingreso mensual?\"))\n",
        "  if ingresos>= 10000:\n",
        "    print(\"Debes pagar impuestos\")\n",
        "  else:\n",
        "      print(\"No pagas impuestos\")"
      ],
      "metadata": {
        "colab": {
          "base_uri": "https://localhost:8080/"
        },
        "outputId": "53d170b3-556f-49f2-970e-32f929fe4c59",
        "id": "EzKMTqmaFKN7"
      },
      "execution_count": 36,
      "outputs": [
        {
          "output_type": "stream",
          "name": "stdout",
          "text": [
            "¿Cuál es tu ingreso mensual?10000\n",
            "Debes pagar impuestos\n"
          ]
        }
      ]
    },
    {
      "cell_type": "markdown",
      "source": [
        "Diferente manera\n"
      ],
      "metadata": {
        "id": "7yg3RFysGAxY"
      }
    },
    {
      "cell_type": "code",
      "source": [
        "edad=int(input(\"¿Cuál es tu edad?\"))\n",
        "ingresos=float(input(\"¿Cuánto ganas?\"))\n",
        "if edad>16 and ingresos>= 10000:\n",
        "  print(\"Pagas impuestos\")\n",
        "else:\n",
        "    print(\"No pagas impuestos\")"
      ],
      "metadata": {
        "colab": {
          "base_uri": "https://localhost:8080/"
        },
        "id": "QoSpzkOuGF3c",
        "outputId": "6d635bee-d591-480a-f185-56404a6ae54b"
      },
      "execution_count": 39,
      "outputs": [
        {
          "output_type": "stream",
          "name": "stdout",
          "text": [
            "¿Cuál es tu edad?19\n",
            "¿Cuánto ganas?20000\n",
            "Pagas impuestos\n"
          ]
        }
      ]
    },
    {
      "cell_type": "markdown",
      "source": [
        "Los alumnos de un curso se dividieron en dos grupos A y B, de acuerdo al género y al nombre.\n",
        "El grupo A esta formado por las mujees con un nombre anterior a  la \"n\" (Es decir, de la A-N)\n",
        "Los hombres posterior a la L es decir (O-Z)\n",
        "Mujeres: (M-Z)\n",
        "Hombres: (A-N)\n",
        "\n",
        "\n",
        "Programa para mostrar el **nombre, genero y mostrar el grupo** al cual corresponde."
      ],
      "metadata": {
        "id": "4u24ZnZcGxNx"
      }
    },
    {
      "cell_type": "code",
      "source": [
        "nombre= input(\"¿Cuál es tu nombre\")\n",
        "genero=input(\"tugenero F o M\")\n",
        "if genero ==\"F\":\n",
        "  if nombre.lower()<\"m\":\n",
        "    grupo= \"A\"\n",
        "  else:\n",
        "      grupo=\"B\"\n",
        "else:\n",
        "  if nombre.lower()>\"N\":\n",
        "    grupo=\"A\"\n",
        "  else:\n",
        "    gupo: \"B\"\n",
        "    print(\"Tu grupo es\"+ grupo)"
      ],
      "metadata": {
        "colab": {
          "base_uri": "https://localhost:8080/"
        },
        "id": "p01W-3nrKF5Q",
        "outputId": "85b955c2-fc7e-4f5f-e8db-f0f126e28867"
      },
      "execution_count": 44,
      "outputs": [
        {
          "name": "stdout",
          "output_type": "stream",
          "text": [
            "¿Cuál es tu nombreCassandra\n",
            "tugenero F o MF\n"
          ]
        }
      ]
    },
    {
      "cell_type": "markdown",
      "source": [
        "La pizzeria Bella Napoli ofrece pizzas vegetarianas y no vegentarianas a sus clientes.\n",
        "Los ingredientes para cada tipo de pizza aparecen a continuación:\n",
        "Ingredientes vegetarianos: Pimiento y champiñones\n",
        "Ingredientes no vegetarianos: Peperoni, Jamón y salmon.\n",
        "\n",
        "Escribir un programa que pegunte al usuario si quiere una pizza vegetariana o no, y en su función de su respuesta le muestre el menú, con los ingredientes disponibles para que elija.\n",
        "Solo se puede elegir un ingrediente  además de la mozzarela y el tomate  que están en todas sus pizzas.\n",
        "Al final se debe mostrar  por pantalla si la pizza elegida es o no es vegetariana  y todos los ingresientes que lleva."
      ],
      "metadata": {
        "id": "nAr-nCScL-w-"
      }
    },
    {
      "cell_type": "code",
      "source": [
        "print(\"Bienvenida a la pizzería Bella Napoli 1-Vegetariana 2-No vegetariana\")\n",
        "tipo= int(input(\"opción\"))\n",
        "if tipo==1:\n",
        "  print(\"1-pimiento 2-champiñones\")\n",
        "  ingrediente=input(\"Tu ingrediente\")\n",
        "if ingrediente== \"1\":\n",
        "  print(\"Tu pizza es de pimiento con mozarella y tomate\")\n",
        "else:\n",
        "print(\"Tu pizza es de champiñones con Mozarella y tomate\")\n",
        "else:\n",
        "  print(\"1-peproni 2-jamón 3- peperoni\")\n",
        "  ingrediente= input(\"tu ingrediente\")\n",
        "   if ingrediente==\"1\"\n",
        "   print(\"Tu pizza es peperoni,mozarella y tomate\")\n",
        "   elif ingrediiente==\"2\":\n",
        "    print(\"Tu pizza es jamón, mozarella y tomate\")\n",
        "    else:\n",
        "      print(\"Tu pizza es de Salmon, mozarella y tomate\")"
      ],
      "metadata": {
        "colab": {
          "base_uri": "https://localhost:8080/",
          "height": 106
        },
        "id": "oeYr9xdyR4Wh",
        "outputId": "7c73d784-1c6e-4484-f991-221079eac271"
      },
      "execution_count": 52,
      "outputs": [
        {
          "output_type": "error",
          "ename": "IndentationError",
          "evalue": "expected an indented block after 'else' statement on line 8 (<ipython-input-52-0d37ab7e13b4>, line 9)",
          "traceback": [
            "\u001b[0;36m  File \u001b[0;32m\"<ipython-input-52-0d37ab7e13b4>\"\u001b[0;36m, line \u001b[0;32m9\u001b[0m\n\u001b[0;31m    print(\"Tu pizza es de champiñones con Mozarella y tomate\")\u001b[0m\n\u001b[0m    ^\u001b[0m\n\u001b[0;31mIndentationError\u001b[0m\u001b[0;31m:\u001b[0m expected an indented block after 'else' statement on line 8\n"
          ]
        }
      ]
    },
    {
      "cell_type": "markdown",
      "source": [
        "CONDICIONALES"
      ],
      "metadata": {
        "id": "udQt-6B2UUpB"
      }
    }
  ]
}