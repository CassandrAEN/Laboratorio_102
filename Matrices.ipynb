{
  "nbformat": 4,
  "nbformat_minor": 0,
  "metadata": {
    "colab": {
      "provenance": [],
      "authorship_tag": "ABX9TyNCcmgLi0zspNth+NBo2eym",
      "include_colab_link": true
    },
    "kernelspec": {
      "name": "python3",
      "display_name": "Python 3"
    },
    "language_info": {
      "name": "python"
    }
  },
  "cells": [
    {
      "cell_type": "markdown",
      "metadata": {
        "id": "view-in-github",
        "colab_type": "text"
      },
      "source": [
        "<a href=\"https://colab.research.google.com/github/CassandrAEN/Laboratorio_202/blob/main/Matrices.ipynb\" target=\"_parent\"><img src=\"https://colab.research.google.com/assets/colab-badge.svg\" alt=\"Open In Colab\"/></a>"
      ]
    },
    {
      "cell_type": "markdown",
      "source": [
        "Matrices"
      ],
      "metadata": {
        "id": "y8LIHxZUuUgH"
      }
    },
    {
      "cell_type": "code",
      "execution_count": null,
      "metadata": {
        "id": "uB6v_u_SuUBE"
      },
      "outputs": [],
      "source": [
        "Matri<[[1,2,3],[4,5,6][7,8,9]]\n",
        "for renglon in matriz:\n",
        "  for elemento in renglon:\n",
        "    print(elemento, end:\"\")\n",
        "    print()"
      ]
    },
    {
      "cell_type": "code",
      "source": [
        "Práctica 1: Matrices\n",
        "# Desarrollar un  programa que genere una matriz con los valores de tipo entero desde el teclado de manera automática con las siguientes características:\n",
        "1. El usuario tendrá que especificar, a través de teclado, la cantidad de filas y columnas que tendrá la matriz que desea generar.\n",
        "2. El programa deberá pedir al usuario todos los valores que contendra la matriz, elemento a elemento.\n",
        "3. Cuando termine el programa termine de solicitar los datos, deberá mostrar en pantalla la matriz resultante en formato de matiz.\n"
      ],
      "metadata": {
        "id": "ZL09D2fTwwvl"
      },
      "execution_count": null,
      "outputs": []
    },
    {
      "cell_type": "code",
      "source": [
        "filas = int(input(\"Ingrese la cantidad de filas: \"))\n",
        "columnas = int(input(\"Ingrese la cantidad de columnas: \"))\n",
        "matriz = [[None] * columnas for _ in range(filas)]\n",
        "for i in range(filas):\n",
        "    print(f\"Ingrese los valores de la fila {i + 1}:\")\n",
        "    for j in range(columnas):\n",
        "        matriz[i][j] = int(input(f\"Valor ({i + 1}, {j + 1}): \"))\n",
        "print(\"\\nMatriz resultante:\")\n",
        "for fila in matriz:\n",
        "    print(fila)"
      ],
      "metadata": {
        "colab": {
          "base_uri": "https://localhost:8080/"
        },
        "id": "4v0Y7TYb13UD",
        "outputId": "470e821a-2175-41f1-91d5-6a921db8b545"
      },
      "execution_count": 19,
      "outputs": [
        {
          "output_type": "stream",
          "name": "stdout",
          "text": [
            "Ingrese la cantidad de filas: 2\n",
            "Ingrese la cantidad de columnas: 2\n",
            "Ingrese los valores de la fila 1:\n",
            "Valor (1, 1): 5\n",
            "Valor (1, 2): 10\n",
            "Ingrese los valores de la fila 2:\n",
            "Valor (2, 1): 1\n",
            "Valor (2, 2): 2\n",
            "\n",
            "Matriz resultante:\n",
            "[5, 10]\n",
            "[1, 2]\n"
          ]
        }
      ]
    },
    {
      "cell_type": "code",
      "source": [
        "Suma de matrices:\n",
        "Deben de tener la misma dimensión, es decir, deben tener la misma cantidad de filas y columnas, de lo contrario, la suma NO podrá efectuarse.\n",
        "[1,2,3] [1,2,3] [2,4,6]\n",
        "[4,5,6]+ [4,1,2] = [8,6,8]\n",
        "[7,8,9] [1,1,0] [8,9,9]\n",
        "En la segunda fila unicamente ira el simbolo de + (más) y el simbolo de = (igual)"
      ],
      "metadata": {
        "id": "Kz-k2hXD4_a6"
      },
      "execution_count": null,
      "outputs": []
    },
    {
      "cell_type": "code",
      "source": [
        "matriz1 = [[1, 2, 3], [4, 5, 6], [7, 8, 9]]\n",
        "matriz2 = [[1, 2, 3], [4, 1, 2], [1, 1, 0]]\n",
        "if len(matriz1) != len(matriz2) or len(matriz1[0]) != len(matriz2[0]):\n",
        "    print(\"Las matrices no tienen la misma dimensión, no se pueden sumar.\")\n",
        "else:\n",
        "    matriz_suma = [[matriz1[i][j] + matriz2[i][j] for j in range(len(matriz1[0]))] for i in range(len(matriz1))]\n",
        "    print(\"\\nMatriz resultante:\")\n",
        "    for fila in matriz_suma:\n",
        "        print(fila)"
      ],
      "metadata": {
        "colab": {
          "base_uri": "https://localhost:8080/"
        },
        "id": "Zz-hTOdq7H1w",
        "outputId": "9cf8354d-523f-43ab-c092-67aa2d0d569d"
      },
      "execution_count": 31,
      "outputs": [
        {
          "output_type": "stream",
          "name": "stdout",
          "text": [
            "\n",
            "Matriz resultante:\n",
            "[2, 4, 6]\n",
            "[8, 6, 8]\n",
            "[8, 9, 9]\n"
          ]
        }
      ]
    }
  ]
}