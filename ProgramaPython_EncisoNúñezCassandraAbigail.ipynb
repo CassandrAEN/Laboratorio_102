{
  "nbformat": 4,
  "nbformat_minor": 0,
  "metadata": {
    "colab": {
      "provenance": [],
      "mount_file_id": "17aSsrcJfv8O1avSuVyoxVsS-x1KLPRNL",
      "authorship_tag": "ABX9TyNuVlhSaWTxjq7WY1gs9qDk",
      "include_colab_link": true
    },
    "kernelspec": {
      "name": "python3",
      "display_name": "Python 3"
    },
    "language_info": {
      "name": "python"
    }
  },
  "cells": [
    {
      "cell_type": "markdown",
      "metadata": {
        "id": "view-in-github",
        "colab_type": "text"
      },
      "source": [
        "<a href=\"https://colab.research.google.com/github/CassandrAEN/Laboratorio_102/blob/main/ProgramaPython_EncisoN%C3%BA%C3%B1ezCassandraAbigail.ipynb\" target=\"_parent\"><img src=\"https://colab.research.google.com/assets/colab-badge.svg\" alt=\"Open In Colab\"/></a>"
      ]
    },
    {
      "cell_type": "markdown",
      "source": [
        "# Tipos de Datos Primitivos"
      ],
      "metadata": {
        "id": "jusL85D70_fs"
      }
    },
    {
      "cell_type": "markdown",
      "source": [
        "*Alumna: Cassandra Abigail Enciso Núñez*\n",
        "*Grupo: 102*"
      ],
      "metadata": {
        "id": "jywKwRDC6rQB"
      }
    },
    {
      "cell_type": "markdown",
      "source": [
        "# ***Entero (Int)***"
      ],
      "metadata": {
        "id": "KaKiAAku6JRX"
      }
    },
    {
      "cell_type": "markdown",
      "source": [
        "Se utilizan para representar datos numéricos, específicamente números enteros. Estos pueden ser tanto positivos como negativos."
      ],
      "metadata": {
        "id": "kWL2VoTL67lJ"
      }
    },
    {
      "cell_type": "code",
      "source": [
        "entero = 3\n",
        "print(type(entero))\n",
        "entero2 = 2\n",
        "entero3 = entero + entero2\n",
        "print(entero, entero2, entero3)"
      ],
      "metadata": {
        "colab": {
          "base_uri": "https://localhost:8080/"
        },
        "id": "lWL6NN8d6P9v",
        "outputId": "c72e03a0-eb70-4bda-f213-945629474b88"
      },
      "execution_count": 1,
      "outputs": [
        {
          "output_type": "stream",
          "name": "stdout",
          "text": [
            "<class 'int'>\n",
            "3 2 5\n"
          ]
        }
      ]
    },
    {
      "cell_type": "code",
      "source": [
        "year = 2021\n",
        "dia = 7\n",
        "edad = 26\n",
        "temperatura = -5\n",
        "angulo = -45"
      ],
      "metadata": {
        "id": "VITRkxTK7co5"
      },
      "execution_count": 2,
      "outputs": []
    },
    {
      "cell_type": "markdown",
      "source": [
        "# ***Flotantes (Float)***\n",
        "\n"
      ],
      "metadata": {
        "id": "NKF2ZtSw7nVn"
      }
    },
    {
      "cell_type": "markdown",
      "source": [
        "Se utilizan para representar números de coma flotante o con decimales."
      ],
      "metadata": {
        "id": "urt5HMyl8a-A"
      }
    },
    {
      "cell_type": "code",
      "source": [
        "real = 1.23\n",
        "print(type(real))\n",
        "cientifico = 2.4e5\n",
        "print(cientifico)"
      ],
      "metadata": {
        "colab": {
          "base_uri": "https://localhost:8080/"
        },
        "id": "vHwnN5EK7zi4",
        "outputId": "d6bfa591-24f5-4b3b-8cc8-ffe4ea7e5235"
      },
      "execution_count": 3,
      "outputs": [
        {
          "output_type": "stream",
          "name": "stdout",
          "text": [
            "<class 'float'>\n",
            "240000.0\n"
          ]
        }
      ]
    },
    {
      "cell_type": "code",
      "source": [
        "pi = 3.1416\n",
        "estatura = 1.84\n",
        "peso = 85.6\n",
        "temperatura = -5.55\n",
        "edad = 26.0"
      ],
      "metadata": {
        "id": "J9yCnXSo8SwE"
      },
      "execution_count": 5,
      "outputs": []
    },
    {
      "cell_type": "markdown",
      "source": [
        "# ***Strings (Str)***"
      ],
      "metadata": {
        "id": "EqHEwTn080_v"
      }
    },
    {
      "cell_type": "markdown",
      "source": [
        "Son un arreglo de caracteres que forman cadenas para conformar un mensaje u oración generalmente. Se pueden crear usando comillas simples, dobles o triples."
      ],
      "metadata": {
        "id": "eFaORHWd9RK_"
      }
    },
    {
      "cell_type": "code",
      "source": [
        "Cadena = \"Hola Mundo\"\n",
        "print(Cadena)"
      ],
      "metadata": {
        "colab": {
          "base_uri": "https://localhost:8080/"
        },
        "id": "5FIf4M-z87rF",
        "outputId": "0d6a5ad2-1490-4c81-c900-1b89821372de"
      },
      "execution_count": 6,
      "outputs": [
        {
          "output_type": "stream",
          "name": "stdout",
          "text": [
            "Hola Mundo\n"
          ]
        }
      ]
    },
    {
      "cell_type": "code",
      "source": [
        "profesor = \"Luis Becerril Espinosa\"\n",
        "alumna = 'Cassandra Abigail Enciso Núñez'\n",
        "cursos = \"\"\"\n",
        "1. Python\n",
        "2. Java\n",
        "\"\"\"\n"
      ],
      "metadata": {
        "id": "gZXxRwF99ZAN"
      },
      "execution_count": 8,
      "outputs": []
    },
    {
      "cell_type": "markdown",
      "source": [
        "# ***Booleanos (Bool)***"
      ],
      "metadata": {
        "id": "tOKvBSMy996s"
      }
    },
    {
      "cell_type": "markdown",
      "source": [
        "Son tipos de datos binarios, es decir que pueden tomar los valores: Verdadero (True) y Falso (False).\n",
        "Son útiles para expresiones con condicionales y de comparaciones."
      ],
      "metadata": {
        "id": "kWY8iEws-Ftp"
      }
    },
    {
      "cell_type": "code",
      "source": [
        "verdadero = True\n",
        "falso = False\n",
        "print(verdadero)\n",
        "print(falso)\n",
        "print(not verdadero)\n",
        "print(verdadero and falso)\n",
        "print(verdadero or falso)"
      ],
      "metadata": {
        "colab": {
          "base_uri": "https://localhost:8080/"
        },
        "id": "IaZ4iEiF_bLt",
        "outputId": "ae1af00f-b153-4bea-81d3-0ad8466b49b6"
      },
      "execution_count": 9,
      "outputs": [
        {
          "output_type": "stream",
          "name": "stdout",
          "text": [
            "True\n",
            "False\n",
            "False\n",
            "False\n",
            "True\n"
          ]
        }
      ]
    },
    {
      "cell_type": "code",
      "source": [
        "esta_frio = True\n",
        "es_bajo = False"
      ],
      "metadata": {
        "id": "hLJUuwn8AJzG"
      },
      "execution_count": 10,
      "outputs": []
    },
    {
      "cell_type": "markdown",
      "source": [
        "# Operadores"
      ],
      "metadata": {
        "id": "uzQl5YLSASB6"
      }
    },
    {
      "cell_type": "markdown",
      "source": [
        "***Aritméticos***"
      ],
      "metadata": {
        "id": "0HiA4X6dAsU5"
      }
    },
    {
      "cell_type": "code",
      "source": [
        "x = 10\n",
        "y = 20\n",
        "z = 15\n",
        "print(x+y)\n",
        "print(x-z)\n",
        "print(y/z)\n",
        "print(y*z)\n",
        "print(z%x)\n",
        "print(y%x)"
      ],
      "metadata": {
        "colab": {
          "base_uri": "https://localhost:8080/"
        },
        "id": "Xv_MdVkyBBYt",
        "outputId": "2b54b083-d709-44ae-cba3-46e690d6932c"
      },
      "execution_count": 15,
      "outputs": [
        {
          "output_type": "stream",
          "name": "stdout",
          "text": [
            "30\n",
            "-5\n",
            "1.3333333333333333\n",
            "300\n",
            "5\n",
            "0\n"
          ]
        }
      ]
    },
    {
      "cell_type": "markdown",
      "source": [
        "***Relacionales***"
      ],
      "metadata": {
        "id": "FRq8DddbBqeU"
      }
    },
    {
      "cell_type": "code",
      "source": [
        "x = 10\n",
        "y = 20\n",
        "z = 15\n",
        "print(x<z)\n",
        "print(x>z)\n",
        "print(y>=x)\n",
        "print(z<=y)\n",
        "print(x==11)\n",
        "print(x==10)\n",
        "print(z!=15)\n",
        "print(z!=7)"
      ],
      "metadata": {
        "colab": {
          "base_uri": "https://localhost:8080/"
        },
        "id": "tnrJw-HVBunM",
        "outputId": "0a2af5fb-e3c2-4aa8-e143-3d6bdcda2486"
      },
      "execution_count": 23,
      "outputs": [
        {
          "output_type": "stream",
          "name": "stdout",
          "text": [
            "True\n",
            "False\n",
            "True\n",
            "True\n",
            "False\n",
            "True\n",
            "False\n",
            "True\n"
          ]
        }
      ]
    },
    {
      "cell_type": "markdown",
      "source": [
        "***Lógicos***"
      ],
      "metadata": {
        "id": "V7D62x09C360"
      }
    },
    {
      "cell_type": "code",
      "source": [
        "x = 10\n",
        "y = 20\n",
        "z = 15\n",
        "print(z>10 and z<20)\n",
        "print(z>10 and z<15)\n",
        "print(x>=10 or x<5)\n",
        "print(x>=11 or x<5)\n",
        "print(not x>=9)\n",
        "print(not not x>=9)"
      ],
      "metadata": {
        "colab": {
          "base_uri": "https://localhost:8080/"
        },
        "id": "k1eVD4ZxC9HC",
        "outputId": "eb7ffe53-d801-470b-e3f2-a1a63a9cc274"
      },
      "execution_count": 32,
      "outputs": [
        {
          "output_type": "stream",
          "name": "stdout",
          "text": [
            "True\n",
            "False\n",
            "True\n",
            "False\n",
            "False\n",
            "True\n"
          ]
        }
      ]
    },
    {
      "cell_type": "markdown",
      "source": [
        "# Jerarquía de Operadores"
      ],
      "metadata": {
        "id": "UXrxUjUSEcT1"
      }
    },
    {
      "cell_type": "markdown",
      "source": [
        "1. () Parentesis.\n",
        "2. ** Potenciación.\n",
        "3. *,/,//,% Multiplicación, división, división entera y módulo.\n",
        "4. +,- Suma y resta.\n",
        "5. <,<=,>,>=,==,!= Menor, menor o igual, mayor, mayor o igual, igual y distinto.\n",
        "6. not Negación Lógica.\n",
        "7. and Conjunción Lógica.\n",
        "8. or Disyunción Lógica.\n",
        "9. = Asignaciones."
      ],
      "metadata": {
        "id": "iA0syMgQExXR"
      }
    },
    {
      "cell_type": "code",
      "source": [
        "x = 4>6 and 7==3+1 or 4!=8%(2*3)\n",
        "print(x)"
      ],
      "metadata": {
        "colab": {
          "base_uri": "https://localhost:8080/"
        },
        "id": "5IZC3onnFKCC",
        "outputId": "4f70492f-7eb4-49a7-facb-60b05e8ace73"
      },
      "execution_count": 34,
      "outputs": [
        {
          "output_type": "stream",
          "name": "stdout",
          "text": [
            "True\n"
          ]
        }
      ]
    }
  ]
}