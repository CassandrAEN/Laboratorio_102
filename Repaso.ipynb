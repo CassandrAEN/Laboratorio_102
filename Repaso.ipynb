{
  "nbformat": 4,
  "nbformat_minor": 0,
  "metadata": {
    "colab": {
      "provenance": [],
      "authorship_tag": "ABX9TyOQJp60EDBgBmoNP7e4dSUP",
      "include_colab_link": true
    },
    "kernelspec": {
      "name": "python3",
      "display_name": "Python 3"
    },
    "language_info": {
      "name": "python"
    }
  },
  "cells": [
    {
      "cell_type": "markdown",
      "metadata": {
        "id": "view-in-github",
        "colab_type": "text"
      },
      "source": [
        "<a href=\"https://colab.research.google.com/github/CassandrAEN/Laboratorio_102/blob/main/Repaso.ipynb\" target=\"_parent\"><img src=\"https://colab.research.google.com/assets/colab-badge.svg\" alt=\"Open In Colab\"/></a>"
      ]
    },
    {
      "cell_type": "code",
      "execution_count": 2,
      "metadata": {
        "colab": {
          "base_uri": "https://localhost:8080/"
        },
        "id": "zNjbLHHPrslm",
        "outputId": "cbf60a9a-84df-48f1-9f6a-096c56e557a1"
      },
      "outputs": [
        {
          "output_type": "stream",
          "name": "stdout",
          "text": [
            "URC - Ciencia de Datos\n"
          ]
        }
      ],
      "source": [
        "# Práctica  tipo de datos simples\n",
        "print(\"URC - Ciencia de Datos\")"
      ]
    },
    {
      "cell_type": "code",
      "source": [
        "# Práctica 2\n",
        "mensaje= \"Bienbenidos, 2024 URC\"\n",
        "print(\"Hola\")\n",
        "print(mensaje)"
      ],
      "metadata": {
        "colab": {
          "base_uri": "https://localhost:8080/"
        },
        "id": "jWB8Kkucs7jU",
        "outputId": "d5cf49ad-0ae5-4098-b761-676bdc9dda14"
      },
      "execution_count": 6,
      "outputs": [
        {
          "output_type": "stream",
          "name": "stdout",
          "text": [
            "Hola\n",
            "Bienbenidos, 2024 URC\n"
          ]
        }
      ]
    },
    {
      "cell_type": "code",
      "source": [
        "# Práctica 3 Nombre del usuario\n",
        "name= input(\"Cassandra Abigail\")\n",
        "print(\"¡Hola\" + name +\"!\")\n"
      ],
      "metadata": {
        "colab": {
          "base_uri": "https://localhost:8080/"
        },
        "id": "SXcJ2xYGtijF",
        "outputId": "30b2b46c-7004-492d-d8ba-73883e6358ba"
      },
      "execution_count": 8,
      "outputs": [
        {
          "output_type": "stream",
          "name": "stdout",
          "text": [
            "Cassandra Abigail Hola\n",
            "¡Hola Hola!\n"
          ]
        }
      ]
    },
    {
      "cell_type": "code",
      "source": [
        "# Práctica 4 Nombre del usuario + entero\n",
        "name=input(\"¿Cómo te llamas?\")\n",
        "n= input (\"Introduce un número entero\")\n",
        "print((name +\"/n\")*int(n))"
      ],
      "metadata": {
        "colab": {
          "base_uri": "https://localhost:8080/"
        },
        "id": "T_xcuG-WuhA7",
        "outputId": "403f93b4-b44e-4de6-aa11-fb2498c2e157"
      },
      "execution_count": 9,
      "outputs": [
        {
          "output_type": "stream",
          "name": "stdout",
          "text": [
            "¿Cómo te llamas?Cassandra Abigail\n",
            "Introduce un número entero8\n",
            "Cassandra Abigail/nCassandra Abigail/nCassandra Abigail/nCassandra Abigail/nCassandra Abigail/nCassandra Abigail/nCassandra Abigail/nCassandra Abigail/n\n"
          ]
        }
      ]
    },
    {
      "cell_type": "code",
      "source": [
        "# Práctica 5 Nombre del usuario, mostrarlo en mayúsculasy mostrando el número de caracteres\n",
        "name=input(\"¿Cómo te llamas?\")\n",
        "print(name.upper() + \"tiene\" + str(len(name)) + \"letras\")"
      ],
      "metadata": {
        "colab": {
          "base_uri": "https://localhost:8080/"
        },
        "id": "jQomeTsZv7cW",
        "outputId": "073e1ff1-b322-4aa1-e385-1f256c27c939"
      },
      "execution_count": 11,
      "outputs": [
        {
          "output_type": "stream",
          "name": "stdout",
          "text": [
            "¿Cómo te llamas?Cassandra Abigail\n",
            "CASSANDRA ABIGAILtiene17letras\n"
          ]
        }
      ]
    },
    {
      "cell_type": "code",
      "source": [
        "from inspect import CO_ASYNC_GENERATOR\n",
        "horas= float(input(\"¿Cúantas horas trabajaste?\"))\n",
        "costo = float(input (\"¿Cuánto cobras por hora?\"))\n",
        "paga=horas * CO_ASYNC_GENERATOR\n",
        "print(\"Tu paga es\"+ str(paga))"
      ],
      "metadata": {
        "id": "OyEYqTc9044s"
      },
      "execution_count": null,
      "outputs": []
    },
    {
      "cell_type": "code",
      "source": [
        "escribir un programa que pida su peso en kg y su estatura calcule el inidice de masa coorporal\n"
      ],
      "metadata": {
        "id": "2zazv7aM0flH"
      },
      "execution_count": null,
      "outputs": []
    },
    {
      "cell_type": "code",
      "source": [
        "peso= float(input(\"¿Cuál es tu peso en kilogramos?\"))\n",
        "estatura= float(input(\"¿Cuál es tu estatura?\"))\n",
        "imc= peso/estatura**2\n",
        "print(\"Tu indicie de masa coorporal es\" + str(imc))"
      ],
      "metadata": {
        "id": "y_ZW8-RO1bx3"
      },
      "execution_count": null,
      "outputs": []
    }
  ]
}