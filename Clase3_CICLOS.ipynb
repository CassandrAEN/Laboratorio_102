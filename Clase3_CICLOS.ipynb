{
  "nbformat": 4,
  "nbformat_minor": 0,
  "metadata": {
    "colab": {
      "provenance": [],
      "authorship_tag": "ABX9TyNFkofXbEg/NgOqf7UhPbDb",
      "include_colab_link": true
    },
    "kernelspec": {
      "name": "python3",
      "display_name": "Python 3"
    },
    "language_info": {
      "name": "python"
    }
  },
  "cells": [
    {
      "cell_type": "markdown",
      "metadata": {
        "id": "view-in-github",
        "colab_type": "text"
      },
      "source": [
        "<a href=\"https://colab.research.google.com/github/CassandrAEN/Laboratorio_102/blob/main/Clase3_CICLOS.ipynb\" target=\"_parent\"><img src=\"https://colab.research.google.com/assets/colab-badge.svg\" alt=\"Open In Colab\"/></a>"
      ]
    },
    {
      "cell_type": "markdown",
      "source": [
        "# **CLASE 3: CICLOS**"
      ],
      "metadata": {
        "id": "0ZDoHHMXVCMH"
      }
    },
    {
      "cell_type": "markdown",
      "source": [
        "Alumna: Cassandra Abigail Enciso Núñez 202"
      ],
      "metadata": {
        "id": "czqpGKcoVL_2"
      }
    },
    {
      "cell_type": "code",
      "execution_count": 1,
      "metadata": {
        "colab": {
          "base_uri": "https://localhost:8080/"
        },
        "id": "BhbqEx4ISpxL",
        "outputId": "10e72e5e-6fdc-4537-bdb2-c30e35fb5aa6"
      },
      "outputs": [
        {
          "output_type": "stream",
          "name": "stdout",
          "text": [
            "escribe una palabra\n",
            "NoneCassandra\n",
            "Cassandra\n",
            "Cassandra\n",
            "Cassandra\n",
            "Cassandra\n",
            "Cassandra\n",
            "Cassandra\n",
            "Cassandra\n",
            "Cassandra\n",
            "Cassandra\n",
            "Cassandra\n",
            "5\n",
            "7\n",
            "9\n",
            "11\n",
            "13\n",
            "15\n",
            "17\n",
            "19\n",
            "5\n",
            "4\n",
            "3\n",
            "2\n",
            "1\n"
          ]
        }
      ],
      "source": [
        "\"Escribir un programa que pida al usuario y la muestre 10 veces\"\n",
        "Palabra= input(print(\"escribe una palabra\"))\n",
        "for i in range (10):\n",
        "  print(Palabra )\n",
        "  # practica 2\n",
        "for i in range (5,20,2):\n",
        "  print(i)\n",
        "# practica 3\n",
        "for i in range (5,0,-1):\n",
        "  print(i)\n"
      ]
    },
    {
      "cell_type": "code",
      "source": [
        "\"Programa que solocite un numero y lo muestre 100 veces incrementando 1 \"\n",
        "numero =int(input(\"ingresa un numero \"))\n",
        "for i in range (1,100,1):\n",
        "  print( numero + i)"
      ],
      "metadata": {
        "colab": {
          "base_uri": "https://localhost:8080/"
        },
        "id": "p7n1pkEdTS4F",
        "outputId": "d080dd4c-f814-4573-a2b9-b17c264007a3"
      },
      "execution_count": 2,
      "outputs": [
        {
          "output_type": "stream",
          "name": "stdout",
          "text": [
            "ingresa un numero 7\n",
            "8\n",
            "9\n",
            "10\n",
            "11\n",
            "12\n",
            "13\n",
            "14\n",
            "15\n",
            "16\n",
            "17\n",
            "18\n",
            "19\n",
            "20\n",
            "21\n",
            "22\n",
            "23\n",
            "24\n",
            "25\n",
            "26\n",
            "27\n",
            "28\n",
            "29\n",
            "30\n",
            "31\n",
            "32\n",
            "33\n",
            "34\n",
            "35\n",
            "36\n",
            "37\n",
            "38\n",
            "39\n",
            "40\n",
            "41\n",
            "42\n",
            "43\n",
            "44\n",
            "45\n",
            "46\n",
            "47\n",
            "48\n",
            "49\n",
            "50\n",
            "51\n",
            "52\n",
            "53\n",
            "54\n",
            "55\n",
            "56\n",
            "57\n",
            "58\n",
            "59\n",
            "60\n",
            "61\n",
            "62\n",
            "63\n",
            "64\n",
            "65\n",
            "66\n",
            "67\n",
            "68\n",
            "69\n",
            "70\n",
            "71\n",
            "72\n",
            "73\n",
            "74\n",
            "75\n",
            "76\n",
            "77\n",
            "78\n",
            "79\n",
            "80\n",
            "81\n",
            "82\n",
            "83\n",
            "84\n",
            "85\n",
            "86\n",
            "87\n",
            "88\n",
            "89\n",
            "90\n",
            "91\n",
            "92\n",
            "93\n",
            "94\n",
            "95\n",
            "96\n",
            "97\n",
            "98\n",
            "99\n",
            "100\n",
            "101\n",
            "102\n",
            "103\n",
            "104\n",
            "105\n",
            "106\n"
          ]
        }
      ]
    },
    {
      "cell_type": "code",
      "source": [
        "\"Escribir un programa que pregunta su edad y muestre todos los años que ha cumplido desde 1.\"\n",
        "edad =int(input(\"ingresa tu edad \"))\n",
        "for e in range (1 + edad ):\n",
        "  print(str( e ) + \" años \" )"
      ],
      "metadata": {
        "colab": {
          "base_uri": "https://localhost:8080/"
        },
        "id": "8aodSBH7Twgf",
        "outputId": "157b9291-bdcd-4796-99b7-26aa288ba9cf"
      },
      "execution_count": 3,
      "outputs": [
        {
          "output_type": "stream",
          "name": "stdout",
          "text": [
            "ingresa tu edad 19\n",
            "0 años \n",
            "1 años \n",
            "2 años \n",
            "3 años \n",
            "4 años \n",
            "5 años \n",
            "6 años \n",
            "7 años \n",
            "8 años \n",
            "9 años \n",
            "10 años \n",
            "11 años \n",
            "12 años \n",
            "13 años \n",
            "14 años \n",
            "15 años \n",
            "16 años \n",
            "17 años \n",
            "18 años \n",
            "19 años \n"
          ]
        }
      ]
    },
    {
      "cell_type": "code",
      "source": [
        "\"Escribir un programa que pida un entero positivo y muestre todos esos numeros desde el que escribi.\"\n",
        "n = int(input(\"ingresa un numero \"))\n",
        "for i in range (0 ,n + 1,2):\n",
        "  print( i )"
      ],
      "metadata": {
        "colab": {
          "base_uri": "https://localhost:8080/"
        },
        "id": "14gZOASUUDEP",
        "outputId": "91c7e528-21b4-458f-e1d7-dee0ae11d834"
      },
      "execution_count": 5,
      "outputs": [
        {
          "output_type": "stream",
          "name": "stdout",
          "text": [
            "ingresa un numero 8\n",
            "0\n",
            "2\n",
            "4\n",
            "6\n",
            "8\n"
          ]
        }
      ]
    },
    {
      "cell_type": "code",
      "source": [
        "\"Escribir un programa que solicite 10 numero y muestre la suma y promedio de estos \"\n",
        "s = 0\n",
        "p = 0\n",
        "for i in range(10):\n",
        "    n = int(input(\"Ingresa un número: \"))\n",
        "    s += n\n",
        "p = s / 10\n",
        "print(\"La suma es:\", s)\n",
        "print(\"El promedio es:\", p)\n"
      ],
      "metadata": {
        "colab": {
          "base_uri": "https://localhost:8080/"
        },
        "id": "XDlry16QUU71",
        "outputId": "0db98839-5e6e-4892-df45-02c4b55bf8a2"
      },
      "execution_count": 6,
      "outputs": [
        {
          "output_type": "stream",
          "name": "stdout",
          "text": [
            "Ingresa un número: 7\n",
            "Ingresa un número: 7\n",
            "Ingresa un número: 8\n",
            "Ingresa un número: 10\n",
            "Ingresa un número: 19\n",
            "Ingresa un número: 20\n",
            "Ingresa un número: 04\n",
            "Ingresa un número: 22\n",
            "Ingresa un número: 7\n",
            "Ingresa un número: 87\n",
            "La suma es: 191\n",
            "El promedio es: 19.1\n"
          ]
        }
      ]
    },
    {
      "cell_type": "code",
      "source": [
        "\"Escribir un programa que pida al usuario y muestre un triangulo. \"\n",
        "n = int(input(\" ingresa un numero \"))\n",
        "\n",
        "for i in range(n):\n",
        "   print(\"*\" * (i + 1))\n"
      ],
      "metadata": {
        "colab": {
          "base_uri": "https://localhost:8080/"
        },
        "id": "nOrlokRwU08r",
        "outputId": "3658b240-6b8c-4538-f8e3-26a8c6fb6266"
      },
      "execution_count": 7,
      "outputs": [
        {
          "output_type": "stream",
          "name": "stdout",
          "text": [
            " ingresa un numero 7\n",
            "*\n",
            "**\n",
            "***\n",
            "****\n",
            "*****\n",
            "******\n",
            "*******\n"
          ]
        }
      ]
    },
    {
      "cell_type": "code",
      "source": [
        "\"Programa que muestre las tablas de multiplicar en for anidado del 1 al 10\"\n",
        "for i in range(1, 11):\n",
        " #    print(f  {i} \")\n",
        "    for k  in range(1, 11):\n",
        "     print(f\"{i * k:>3}\", end=\"\")\n",
        "    print()"
      ],
      "metadata": {
        "colab": {
          "base_uri": "https://localhost:8080/"
        },
        "id": "_xgcI3iIU8xk",
        "outputId": "a5a2c0c7-c476-4b7c-867e-583a25795b82"
      },
      "execution_count": 8,
      "outputs": [
        {
          "output_type": "stream",
          "name": "stdout",
          "text": [
            "  1  2  3  4  5  6  7  8  9 10\n",
            "  2  4  6  8 10 12 14 16 18 20\n",
            "  3  6  9 12 15 18 21 24 27 30\n",
            "  4  8 12 16 20 24 28 32 36 40\n",
            "  5 10 15 20 25 30 35 40 45 50\n",
            "  6 12 18 24 30 36 42 48 54 60\n",
            "  7 14 21 28 35 42 49 56 63 70\n",
            "  8 16 24 32 40 48 56 64 72 80\n",
            "  9 18 27 36 45 54 63 72 81 90\n",
            " 10 20 30 40 50 60 70 80 90100\n"
          ]
        }
      ]
    }
  ]
}