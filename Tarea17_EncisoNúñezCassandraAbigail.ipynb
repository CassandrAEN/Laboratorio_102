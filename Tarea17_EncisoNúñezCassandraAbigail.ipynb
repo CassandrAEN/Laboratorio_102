{
  "nbformat": 4,
  "nbformat_minor": 0,
  "metadata": {
    "colab": {
      "provenance": [],
      "authorship_tag": "ABX9TyP0moZJwyvJtR0sSG4j8aYI",
      "include_colab_link": true
    },
    "kernelspec": {
      "name": "python3",
      "display_name": "Python 3"
    },
    "language_info": {
      "name": "python"
    }
  },
  "cells": [
    {
      "cell_type": "markdown",
      "metadata": {
        "id": "view-in-github",
        "colab_type": "text"
      },
      "source": [
        "<a href=\"https://colab.research.google.com/github/CassandrAEN/Laboratorio_102/blob/main/Tarea17_EncisoN%C3%BA%C3%B1ezCassandraAbigail.ipynb\" target=\"_parent\"><img src=\"https://colab.research.google.com/assets/colab-badge.svg\" alt=\"Open In Colab\"/></a>"
      ]
    },
    {
      "cell_type": "markdown",
      "source": [
        "\n",
        "\n",
        "***# Sentencia If***"
      ],
      "metadata": {
        "id": "QbsBUfHeNI_N"
      }
    },
    {
      "cell_type": "code",
      "source": [
        "edad = int(input(\"Ingrese su edad:\"))\n",
        "\n",
        "if edad > 18:\n",
        "  print(\"Eres mayor de edad\")"
      ],
      "metadata": {
        "colab": {
          "base_uri": "https://localhost:8080/"
        },
        "id": "TEL36tplRnUE",
        "outputId": "4ba39e54-ab90-4a44-fecd-978c3b7ffe35"
      },
      "execution_count": 45,
      "outputs": [
        {
          "output_type": "stream",
          "name": "stdout",
          "text": [
            "Ingrese su edad:19\n",
            "Eres mayor de edad\n"
          ]
        }
      ]
    },
    {
      "cell_type": "code",
      "source": [
        "num= int(input('escribe un numero\\n'))\n",
        "\n",
        "if num < 0:\n",
        "  print(' numero negativo')\n",
        "elif num==0:\n",
        "  print('el numero es 0')\n",
        "elif num > 0:\n",
        "  print('el numero es positivo')"
      ],
      "metadata": {
        "colab": {
          "base_uri": "https://localhost:8080/"
        },
        "id": "3FnOdEwzSwfE",
        "outputId": "bff6ef3e-39f6-4ef6-fa34-fd0ad48ce1cd"
      },
      "execution_count": 41,
      "outputs": [
        {
          "output_type": "stream",
          "name": "stdout",
          "text": [
            "escribe un numero\n",
            "7\n",
            "el numero es positivo\n"
          ]
        }
      ]
    },
    {
      "cell_type": "markdown",
      "source": [
        "***# Sentencia While***\n"
      ],
      "metadata": {
        "id": "L3DAOyOhTpzM"
      }
    },
    {
      "cell_type": "code",
      "source": [
        "a = 0\n",
        "while a < 5:\n",
        "  print(\"Hola mi nombre es Abi\")\n",
        "  a = a + 1"
      ],
      "metadata": {
        "colab": {
          "base_uri": "https://localhost:8080/"
        },
        "id": "Da32EGDoTxXd",
        "outputId": "55c00023-7eb3-4bca-e05f-19da37f1ba90"
      },
      "execution_count": 56,
      "outputs": [
        {
          "output_type": "stream",
          "name": "stdout",
          "text": [
            "Hola mi nombre es Abi\n",
            "Hola mi nombre es Abi\n",
            "Hola mi nombre es Abi\n",
            "Hola mi nombre es Abi\n",
            "Hola mi nombre es Abi\n"
          ]
        }
      ]
    },
    {
      "cell_type": "code",
      "source": [
        "print('While controlado por conteo')\n",
        "\n",
        "print('===============================')\n",
        "\n",
        "print('Sumador numero hasta 10')\n",
        "\n",
        "sum=0\n",
        "\n",
        "num=1\n",
        "\n",
        "while (sum<=10):\n",
        "\n",
        "  sum=num+sum\n",
        "\n",
        "  num=num+1\n",
        "\n",
        "  print('La suma es ' +str(sum))"
      ],
      "metadata": {
        "colab": {
          "base_uri": "https://localhost:8080/"
        },
        "id": "Qz0vEPfTVBbc",
        "outputId": "3378e03f-de59-40c6-9901-e7a74638e2c9"
      },
      "execution_count": 58,
      "outputs": [
        {
          "output_type": "stream",
          "name": "stdout",
          "text": [
            "While controlado por conteo\n",
            "===============================\n",
            "Sumador numero hasta 10\n",
            "La suma es 1\n",
            "La suma es 3\n",
            "La suma es 6\n",
            "La suma es 10\n",
            "La suma es 15\n"
          ]
        }
      ]
    },
    {
      "cell_type": "markdown",
      "source": [
        "***# Bucle For***"
      ],
      "metadata": {
        "id": "if2HA6zgVXm8"
      }
    },
    {
      "cell_type": "code",
      "source": [
        "print('for con listas')\n",
        "\n",
        "print('===============================')\n",
        "\n",
        "nombre_list=['Cassandra','Abigail','Enciso', 'Núñez']\n",
        "\n",
        "for nombre in nombre_list:\n",
        "\n",
        "  print('Su nombre es: ', nombre, ' el numero de letras son:', len(nombre))\n"
      ],
      "metadata": {
        "colab": {
          "base_uri": "https://localhost:8080/"
        },
        "id": "5sPvDhQ_VdU9",
        "outputId": "b9c6e53b-aff0-4867-8b2c-2fde4e21befa"
      },
      "execution_count": 61,
      "outputs": [
        {
          "output_type": "stream",
          "name": "stdout",
          "text": [
            "for con listas\n",
            "===============================\n",
            "Su nombre es:  Cassandra  el numero de letras son: 9\n",
            "Su nombre es:  Abigail  el numero de letras son: 7\n",
            "Su nombre es:  Enciso  el numero de letras son: 6\n",
            "Su nombre es:  Núñez  el numero de letras son: 5\n"
          ]
        }
      ]
    }
  ]
}