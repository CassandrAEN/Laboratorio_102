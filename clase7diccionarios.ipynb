{
  "nbformat": 4,
  "nbformat_minor": 0,
  "metadata": {
    "colab": {
      "provenance": [],
      "authorship_tag": "ABX9TyOF0r/HhjZySNR8DWAqe6vC",
      "include_colab_link": true
    },
    "kernelspec": {
      "name": "python3",
      "display_name": "Python 3"
    },
    "language_info": {
      "name": "python"
    }
  },
  "cells": [
    {
      "cell_type": "markdown",
      "metadata": {
        "id": "view-in-github",
        "colab_type": "text"
      },
      "source": [
        "<a href=\"https://colab.research.google.com/github/CassandrAEN/Laboratorio_202/blob/main/clase7diccionarios.ipynb\" target=\"_parent\"><img src=\"https://colab.research.google.com/assets/colab-badge.svg\" alt=\"Open In Colab\"/></a>"
      ]
    },
    {
      "cell_type": "markdown",
      "source": [
        "***DICCIONARIOS***"
      ],
      "metadata": {
        "id": "vuKYfYbLxpNp"
      }
    },
    {
      "cell_type": "markdown",
      "source": [
        "Son colecciones de datos semejantes a las listas.\n",
        "- Se define cada elemento swntro de un diccionario como una relación clave:\n",
        "  Valor\n",
        "- Las claves ejercen como índice de cada elemento (No son únicamente números)\n"
      ],
      "metadata": {
        "id": "XVjP-IZxxuBh"
      }
    },
    {
      "cell_type": "code",
      "source": [
        "colores={\"azul\":\"blue\",\"negro\":\"black\",\"rosado\":\"pink\"}\n",
        "propiedades={1:\"Nombre\",2:\"Apellido\",3:\"Profesion\",4:\"Region\"}\n",
        "print(propiedades)\n",
        "\n",
        "colores[\"anarangado\"]= \"orange\"\n",
        "colores[\"blanco\"]= \"white\"\n",
        "print(colores)"
      ],
      "metadata": {
        "colab": {
          "base_uri": "https://localhost:8080/"
        },
        "id": "AnCTGKmZ94kI",
        "outputId": "43c3b596-9650-4972-c669-7040a8215037"
      },
      "execution_count": null,
      "outputs": [
        {
          "output_type": "stream",
          "name": "stdout",
          "text": [
            "{1: 'Nombre', 2: 'Apellido', 3: 'Profesion', 4: 'Region'}\n",
            "{'azul': 'blue', 'negro': 'black', 'rosado': 'pink', 'anarangado': 'orange', 'blanco': 'white'}\n"
          ]
        }
      ]
    },
    {
      "cell_type": "code",
      "source": [
        "edades={'Alberto':24,\n",
        "        'Joel':26,\n",
        "        'Ana':27,\n",
        "        'Victor':28}\n",
        "print(edades)\n",
        "edades['Joel']+=1;\n",
        "print(edades)\n",
        "x=edades['Alberto']+ edades['Ana']\n",
        "print(x)"
      ],
      "metadata": {
        "colab": {
          "base_uri": "https://localhost:8080/"
        },
        "id": "fyA_G71GzKqZ",
        "outputId": "cc53efea-e207-499d-8b30-faf651dbfa76"
      },
      "execution_count": null,
      "outputs": [
        {
          "output_type": "stream",
          "name": "stdout",
          "text": [
            "{'Alberto': 24, 'Joel': 26, 'Ana': 27, 'Victor': 28}\n",
            "{'Alberto': 24, 'Joel': 27, 'Ana': 27, 'Victor': 28}\n",
            "51\n"
          ]
        }
      ]
    },
    {
      "cell_type": "markdown",
      "source": [
        "for c in edades:\n",
        "print(c)"
      ],
      "metadata": {
        "id": "n8yyzQtK0GgQ"
      }
    },
    {
      "cell_type": "markdown",
      "source": [
        "Métodos:\n",
        "El metodo items() nos devuelve la clave y valor automaicamente.\n",
        "\n",
        "for c, v in edades.items():\n",
        "\n",
        "el método del() nos permite eliminar los valores de un diccionario del(edades['Victor'])\n",
        "print(edades)\n"
      ],
      "metadata": {
        "id": "3zQllklq0NAI"
      }
    },
    {
      "cell_type": "code",
      "source": [
        "#Práctica 1 diccionarios\n",
        "\"\"\"Escribir un programa que guarde en una variable el diccionario {'Euro':'€', 'Dollar':'$', 'Yen':'\\'}, S = 36 y = 165 := 190 euro= epsilon pregunte al usuario por una divisa y muestre su símbolo o un mensaje de aviso si la divisa no está en el diccionario.\"\"\"\n",
        "\n",
        "divisas = {'Euros': '€', 'Dollar': '$', 'Yen': '¥'}\n",
        "\n",
        "divisa = input(\"Ingrese una divisa: \").capitalize()\n",
        "\n",
        "if divisa in divisas:\n",
        "    print(f\"El símbolo para {divisa} es {divisas[divisa]}\")\n",
        "else:\n",
        "    print(f\"{divisa} no es una divisa válida.\")"
      ],
      "metadata": {
        "colab": {
          "base_uri": "https://localhost:8080/"
        },
        "id": "On3fhilo3wj3",
        "outputId": "9f29f21b-c3a3-4d1d-c1ca-2151931c848f"
      },
      "execution_count": null,
      "outputs": [
        {
          "output_type": "stream",
          "name": "stdout",
          "text": [
            "Ingrese una divisa: Dollar\n",
            "El símbolo para Dollar es $\n"
          ]
        }
      ]
    },
    {
      "cell_type": "code",
      "source": [
        "# Práctica 1 Diccionarios:\n",
        "Escribir un programa que guarde en una variable el diccionario {'Euro':'€, 'Dollar': '$\", 'Yen':'¥'},\n",
        "$= 36 ¥= 0165 ¥= 190 euro= €\n",
        "Pregunte al usuario por una divisa y muestre su simbolo o un mensaje de aviso si la divisa no esta en el diccionario.\n"
      ],
      "metadata": {
        "id": "ONlGQwWK3k03"
      },
      "execution_count": null,
      "outputs": []
    },
    {
      "cell_type": "code",
      "source": [
        "monedas = {'Euro': '€', 'Dollar': '$', 'Yen': '¥'}\n",
        "moneda = input(\"Ingrese el nombre de una moneda: \").title()\n",
        "if moneda in monedas:\n",
        "    print(f\"El símbolo de {moneda} es {monedas[moneda]}\")\n",
        "else:\n",
        "    print(\"Error: Moneda no encontrada en el diccionario.\")"
      ],
      "metadata": {
        "colab": {
          "base_uri": "https://localhost:8080/"
        },
        "id": "yPsdPATU3YOB",
        "outputId": "dfd089aa-6ba5-423e-95a2-4dcfc3b847a7"
      },
      "execution_count": null,
      "outputs": [
        {
          "output_type": "stream",
          "name": "stdout",
          "text": [
            "Ingrese el nombre de una moneda: Euro\n",
            "El símbolo de Euro es €\n"
          ]
        }
      ]
    },
    {
      "cell_type": "code",
      "source": [
        "# Práctica 2 Diccionarios:\n",
        "Escribir un programa que pregunte al usuario su nombre, edad, dirección y teléfono y lo guarde en un diccionario.\n",
        "Despúes debe mostrar por pantalla el mensaje <nombre> tiene <edad> años,  vive en <dirección> y su número de telefono es <telefono>.\n",
        "Teniendo en cuenta que el nombre= Pedro edad= 40 vive= Azcapotzalco telefono= 56-58-11-11"
      ],
      "metadata": {
        "id": "UcRqG6QF41zQ"
      },
      "execution_count": null,
      "outputs": []
    },
    {
      "cell_type": "code",
      "source": [
        "# Práctica 2 Diccionarios:\n",
        "nombre = input(\"Ingrese su nombre: \")\n",
        "edad = int(input(\"Ingrese su edad: \"))\n",
        "direccion = input(\"Ingrese su dirección: \")\n",
        "telefono = input(\"Ingrese su número de teléfono: \")\n",
        "datos_usuario = {\n",
        "    \"nombre\": nombre,\n",
        "    \"edad\": edad,\n",
        "    \"direccion\": direccion,\n",
        "    \"telefono\": telefono\n",
        "}\n",
        "print(f\"{datos_usuario['nombre']} tiene {datos_usuario['edad']} años, vive en {datos_usuario['direccion']} y su número de teléfono es {datos_usuario['telefono']}.\")"
      ],
      "metadata": {
        "colab": {
          "base_uri": "https://localhost:8080/"
        },
        "id": "qlxTLS6S6jNp",
        "outputId": "9a1c7c5d-d071-4531-8989-e032dcdc97c9"
      },
      "execution_count": null,
      "outputs": [
        {
          "output_type": "stream",
          "name": "stdout",
          "text": [
            "Ingrese su nombre: Cassandra\n",
            "Ingrese su edad: 19\n",
            "Ingrese su dirección: Coyoacán\n",
            "Ingrese su número de teléfono: 55325312\n",
            "Cassandra tiene 19 años, vive en Coyoacán y su número de teléfono es 55325312.\n"
          ]
        }
      ]
    },
    {
      "cell_type": "code",
      "source": [
        "# Práctica 3 Diccionario:\n",
        "Escribir un programa que guarde en un diccionario los precios de las frutas de la tabla. Preguntar al usuario por una fruta, un número de kilos y muestre por pantalla el precio de ese número de los kilos de fruta.\n",
        "Si la fruta no está en el diccionario debe mostrar un mensaje informando de ello.\n",
        "Tomando en cuenta que:\n",
        "Plátano = 20.00 Manzana= 45.00 Pera= 35.00 Naranja= 7.50"
      ],
      "metadata": {
        "id": "YRKgXsFy-xYP"
      },
      "execution_count": null,
      "outputs": []
    },
    {
      "cell_type": "code",
      "source": [
        "precios_frutas = {\n",
        "    \"Plátano\": 20.00,\n",
        "    \"Manzana\": 45.00,\n",
        "    \"Pera\": 35.00,\n",
        "    \"Naranja\": 7.50\n",
        "}\n",
        "fruta = input(\"Ingrese el nombre de la fruta: \").title()\n",
        "kilos = float(input(\"Ingrese la cantidad en kilos: \"))\n",
        "if fruta in precios_frutas:\n",
        "    precio = precios_frutas[fruta] * kilos\n",
        "    print(f\"El precio de {kilos} kilos de {fruta} es: ${precio:.2f}\")\n",
        "else:\n",
        "    print(\"Lo sentimos, la fruta ingresada no está en el diccionario.\")"
      ],
      "metadata": {
        "colab": {
          "base_uri": "https://localhost:8080/"
        },
        "id": "jUGGom3a_yz_",
        "outputId": "8e193fb7-92dc-4582-c293-91fb723b5b19"
      },
      "execution_count": null,
      "outputs": [
        {
          "output_type": "stream",
          "name": "stdout",
          "text": [
            "Ingrese el nombre de la fruta: Naranja\n",
            "Ingrese la cantidad en kilos: 2\n",
            "El precio de 2.0 kilos de Naranja es: $15.00\n"
          ]
        }
      ]
    },
    {
      "cell_type": "code",
      "source": [
        "# Práctica 4 Diccionario:\n",
        "Escribir un programa que pregunte una fecha en formato dd / mm / aaaa y muestre por pantalla la misma fecha en formato dd de <mes> de aaaa donde <mes> es el nombre del mes."
      ],
      "metadata": {
        "id": "P5om35LlK07F"
      },
      "execution_count": null,
      "outputs": []
    },
    {
      "cell_type": "code",
      "source": [
        "meses = {\n",
        "    1: 'enero', 2: 'febrero', 3: 'marzo', 4: 'abril', 5: 'mayo', 6: 'junio',\n",
        "    7: 'julio', 8: 'agosto', 9: 'septiembre', 10: 'octubre', 11: 'noviembre',\n",
        "    12: 'diciembre'}\n",
        "fecha_nacimiento=input('Introduce tu fecha de nacimiento en formato dd/mm/aaaa: ')\n",
        "partes_fecha = fecha_nacimiento.split('/')\n",
        "dia = partes_fecha[0]\n",
        "mes =partes_fecha[1]\n",
        "año =partes_fecha[2]\n",
        "print(f'{dia} de {meses[int(mes)]} de {año}')"
      ],
      "metadata": {
        "colab": {
          "base_uri": "https://localhost:8080/"
        },
        "id": "a_L-7P7tNDeb",
        "outputId": "e5c58341-10fb-4860-a40e-e9fb861209ba"
      },
      "execution_count": 6,
      "outputs": [
        {
          "output_type": "stream",
          "name": "stdout",
          "text": [
            "Introduce tu fecha de nacimiento en formato dd/mm/aaaa: 07/10/2004\n",
            "07 de octubre de 2004\n"
          ]
        }
      ]
    },
    {
      "cell_type": "code",
      "source": [
        "#Práctica 5 Diccionario:\n",
        "Escribir un programa que cree un diccionario simulando una cesta de la compra. El programa debe preguntar el artículo, su precio y añadir el par al diccionario hasta que el usuario decida terminar.Despúes se debe mostrar por pantalla la lista de la compra y el coste total con el siguiente formato:\n",
        "Lista de la compra:\n",
        "Artículo 1 : precio\n",
        "Artículo 2 : precio\n",
        "Artículo 3 : precio\n",
        "...\n",
        "Total costo:"
      ],
      "metadata": {
        "id": "Uf8PSParNkSj"
      },
      "execution_count": null,
      "outputs": []
    },
    {
      "cell_type": "code",
      "source": [
        "cesta_compra = {}\n",
        "total_costo = 0\n",
        "while True:\n",
        "    item = input('Introduce un artículo o pulsa \"Enter\" para terminar: ')\n",
        "    if not item:\n",
        "        break\n",
        "    precio = float(input('Introduce el precio del artículo: '))\n",
        "    cesta_compra[item] = precio\n",
        "    total_costo += precio\n",
        "\n",
        "print('Lista de la compra:')\n",
        "for item, price in cesta_compra.items():\n",
        "    print(f'Artículo {item}: {precio}')\n",
        "print(f'Total costo: {total_costo}')"
      ],
      "metadata": {
        "colab": {
          "base_uri": "https://localhost:8080/"
        },
        "id": "X6zoGLsWPPKz",
        "outputId": "23f901ce-563c-4956-b192-38ffb0b771ef"
      },
      "execution_count": 7,
      "outputs": [
        {
          "output_type": "stream",
          "name": "stdout",
          "text": [
            "Introduce un artículo o pulsa \"Enter\" para terminar: Blush\n",
            "Introduce el precio del artículo: 540\n",
            "Introduce un artículo o pulsa \"Enter\" para terminar: Máscara de pestañas\n",
            "Introduce el precio del artículo: 240\n",
            "Introduce un artículo o pulsa \"Enter\" para terminar: Polvo translúcido \n",
            "Introduce el precio del artículo: 350\n",
            "Introduce un artículo o pulsa \"Enter\" para terminar: Agua micelar \n",
            "Introduce el precio del artículo: 150\n",
            "Introduce un artículo o pulsa \"Enter\" para terminar: Toallitas desmaquillantes\n",
            "Introduce el precio del artículo: 99\n",
            "Introduce un artículo o pulsa \"Enter\" para terminar: Base DIOR\n",
            "Introduce el precio del artículo: 1200\n",
            "Introduce un artículo o pulsa \"Enter\" para terminar: \n",
            "Lista de la compra:\n",
            "Artículo Blush: 1200.0\n",
            "Artículo Máscara de pestañas: 1200.0\n",
            "Artículo Polvo translúcido : 1200.0\n",
            "Artículo Agua micelar : 1200.0\n",
            "Artículo Toallitas desmaquillantes: 1200.0\n",
            "Artículo Base DIOR: 1200.0\n",
            "Total costo: 2579.0\n"
          ]
        }
      ]
    }
  ]
}